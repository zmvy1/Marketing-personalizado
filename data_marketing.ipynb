{
  "nbformat": 4,
  "nbformat_minor": 0,
  "metadata": {
    "colab": {
      "provenance": [],
      "collapsed_sections": []
    },
    "kernelspec": {
      "name": "python3",
      "display_name": "Python 3"
    },
    "language_info": {
      "name": "python"
    }
  },
  "cells": [
    {
      "cell_type": "code",
      "execution_count": 1,
      "metadata": {
        "id": "U9CZW4ALAQ8p"
      },
      "outputs": [],
      "source": [
        "import pandas as pd\n",
        "import numpy as np"
      ]
    },
    {
      "cell_type": "code",
      "source": [
        "url = (\"https://raw.githubusercontent.com/luislemuspaz/Ciencia-de-Datos-en-Python/master/marketing_data.csv\")\n",
        "df = pd.read_csv(url)\n",
        "df.head()"
      ],
      "metadata": {
        "colab": {
          "base_uri": "https://localhost:8080/",
          "height": 300
        },
        "id": "KTWcy5SDA3J2",
        "outputId": "c7b472a2-889a-457c-9038-0aae84885853"
      },
      "execution_count": 4,
      "outputs": [
        {
          "output_type": "execute_result",
          "data": {
            "text/plain": [
              "      ID  Year_Birth   Education Marital_Status     Income   Kidhome  \\\n",
              "0   1826        1970  Graduation       Divorced  $84,835.00        0   \n",
              "1      1        1961  Graduation         Single  $57,091.00        0   \n",
              "2  10476        1958  Graduation        Married  $67,267.00        0   \n",
              "3   1386        1967  Graduation       Together  $32,474.00        1   \n",
              "4   5371        1989  Graduation         Single  $21,474.00        1   \n",
              "\n",
              "   Teenhome Dt_Customer  Recency  MntWines  ...  NumStorePurchases  \\\n",
              "0         0     6/16/14        0       189  ...                  6   \n",
              "1         0     6/15/14        0       464  ...                  7   \n",
              "2         1     5/13/14        0       134  ...                  5   \n",
              "3         1  05/11/2014        0        10  ...                  2   \n",
              "4         0  04/08/2014        0         6  ...                  2   \n",
              "\n",
              "   NumWebVisitsMonth  AcceptedCmp3  AcceptedCmp4  AcceptedCmp5  AcceptedCmp1  \\\n",
              "0                  1             0             0             0             0   \n",
              "1                  5             0             0             0             0   \n",
              "2                  2             0             0             0             0   \n",
              "3                  7             0             0             0             0   \n",
              "4                  7             1             0             0             0   \n",
              "\n",
              "   AcceptedCmp2  Response  Complain  Country  \n",
              "0             0         1         0       SP  \n",
              "1             1         1         0       CA  \n",
              "2             0         0         0       US  \n",
              "3             0         0         0      AUS  \n",
              "4             0         1         0       SP  \n",
              "\n",
              "[5 rows x 28 columns]"
            ],
            "text/html": [
              "\n",
              "  <div id=\"df-3a4b314b-10ba-4d6a-aa8d-3b63ef2d72df\">\n",
              "    <div class=\"colab-df-container\">\n",
              "      <div>\n",
              "<style scoped>\n",
              "    .dataframe tbody tr th:only-of-type {\n",
              "        vertical-align: middle;\n",
              "    }\n",
              "\n",
              "    .dataframe tbody tr th {\n",
              "        vertical-align: top;\n",
              "    }\n",
              "\n",
              "    .dataframe thead th {\n",
              "        text-align: right;\n",
              "    }\n",
              "</style>\n",
              "<table border=\"1\" class=\"dataframe\">\n",
              "  <thead>\n",
              "    <tr style=\"text-align: right;\">\n",
              "      <th></th>\n",
              "      <th>ID</th>\n",
              "      <th>Year_Birth</th>\n",
              "      <th>Education</th>\n",
              "      <th>Marital_Status</th>\n",
              "      <th>Income</th>\n",
              "      <th>Kidhome</th>\n",
              "      <th>Teenhome</th>\n",
              "      <th>Dt_Customer</th>\n",
              "      <th>Recency</th>\n",
              "      <th>MntWines</th>\n",
              "      <th>...</th>\n",
              "      <th>NumStorePurchases</th>\n",
              "      <th>NumWebVisitsMonth</th>\n",
              "      <th>AcceptedCmp3</th>\n",
              "      <th>AcceptedCmp4</th>\n",
              "      <th>AcceptedCmp5</th>\n",
              "      <th>AcceptedCmp1</th>\n",
              "      <th>AcceptedCmp2</th>\n",
              "      <th>Response</th>\n",
              "      <th>Complain</th>\n",
              "      <th>Country</th>\n",
              "    </tr>\n",
              "  </thead>\n",
              "  <tbody>\n",
              "    <tr>\n",
              "      <th>0</th>\n",
              "      <td>1826</td>\n",
              "      <td>1970</td>\n",
              "      <td>Graduation</td>\n",
              "      <td>Divorced</td>\n",
              "      <td>$84,835.00</td>\n",
              "      <td>0</td>\n",
              "      <td>0</td>\n",
              "      <td>6/16/14</td>\n",
              "      <td>0</td>\n",
              "      <td>189</td>\n",
              "      <td>...</td>\n",
              "      <td>6</td>\n",
              "      <td>1</td>\n",
              "      <td>0</td>\n",
              "      <td>0</td>\n",
              "      <td>0</td>\n",
              "      <td>0</td>\n",
              "      <td>0</td>\n",
              "      <td>1</td>\n",
              "      <td>0</td>\n",
              "      <td>SP</td>\n",
              "    </tr>\n",
              "    <tr>\n",
              "      <th>1</th>\n",
              "      <td>1</td>\n",
              "      <td>1961</td>\n",
              "      <td>Graduation</td>\n",
              "      <td>Single</td>\n",
              "      <td>$57,091.00</td>\n",
              "      <td>0</td>\n",
              "      <td>0</td>\n",
              "      <td>6/15/14</td>\n",
              "      <td>0</td>\n",
              "      <td>464</td>\n",
              "      <td>...</td>\n",
              "      <td>7</td>\n",
              "      <td>5</td>\n",
              "      <td>0</td>\n",
              "      <td>0</td>\n",
              "      <td>0</td>\n",
              "      <td>0</td>\n",
              "      <td>1</td>\n",
              "      <td>1</td>\n",
              "      <td>0</td>\n",
              "      <td>CA</td>\n",
              "    </tr>\n",
              "    <tr>\n",
              "      <th>2</th>\n",
              "      <td>10476</td>\n",
              "      <td>1958</td>\n",
              "      <td>Graduation</td>\n",
              "      <td>Married</td>\n",
              "      <td>$67,267.00</td>\n",
              "      <td>0</td>\n",
              "      <td>1</td>\n",
              "      <td>5/13/14</td>\n",
              "      <td>0</td>\n",
              "      <td>134</td>\n",
              "      <td>...</td>\n",
              "      <td>5</td>\n",
              "      <td>2</td>\n",
              "      <td>0</td>\n",
              "      <td>0</td>\n",
              "      <td>0</td>\n",
              "      <td>0</td>\n",
              "      <td>0</td>\n",
              "      <td>0</td>\n",
              "      <td>0</td>\n",
              "      <td>US</td>\n",
              "    </tr>\n",
              "    <tr>\n",
              "      <th>3</th>\n",
              "      <td>1386</td>\n",
              "      <td>1967</td>\n",
              "      <td>Graduation</td>\n",
              "      <td>Together</td>\n",
              "      <td>$32,474.00</td>\n",
              "      <td>1</td>\n",
              "      <td>1</td>\n",
              "      <td>05/11/2014</td>\n",
              "      <td>0</td>\n",
              "      <td>10</td>\n",
              "      <td>...</td>\n",
              "      <td>2</td>\n",
              "      <td>7</td>\n",
              "      <td>0</td>\n",
              "      <td>0</td>\n",
              "      <td>0</td>\n",
              "      <td>0</td>\n",
              "      <td>0</td>\n",
              "      <td>0</td>\n",
              "      <td>0</td>\n",
              "      <td>AUS</td>\n",
              "    </tr>\n",
              "    <tr>\n",
              "      <th>4</th>\n",
              "      <td>5371</td>\n",
              "      <td>1989</td>\n",
              "      <td>Graduation</td>\n",
              "      <td>Single</td>\n",
              "      <td>$21,474.00</td>\n",
              "      <td>1</td>\n",
              "      <td>0</td>\n",
              "      <td>04/08/2014</td>\n",
              "      <td>0</td>\n",
              "      <td>6</td>\n",
              "      <td>...</td>\n",
              "      <td>2</td>\n",
              "      <td>7</td>\n",
              "      <td>1</td>\n",
              "      <td>0</td>\n",
              "      <td>0</td>\n",
              "      <td>0</td>\n",
              "      <td>0</td>\n",
              "      <td>1</td>\n",
              "      <td>0</td>\n",
              "      <td>SP</td>\n",
              "    </tr>\n",
              "  </tbody>\n",
              "</table>\n",
              "<p>5 rows × 28 columns</p>\n",
              "</div>\n",
              "      <button class=\"colab-df-convert\" onclick=\"convertToInteractive('df-3a4b314b-10ba-4d6a-aa8d-3b63ef2d72df')\"\n",
              "              title=\"Convert this dataframe to an interactive table.\"\n",
              "              style=\"display:none;\">\n",
              "        \n",
              "  <svg xmlns=\"http://www.w3.org/2000/svg\" height=\"24px\"viewBox=\"0 0 24 24\"\n",
              "       width=\"24px\">\n",
              "    <path d=\"M0 0h24v24H0V0z\" fill=\"none\"/>\n",
              "    <path d=\"M18.56 5.44l.94 2.06.94-2.06 2.06-.94-2.06-.94-.94-2.06-.94 2.06-2.06.94zm-11 1L8.5 8.5l.94-2.06 2.06-.94-2.06-.94L8.5 2.5l-.94 2.06-2.06.94zm10 10l.94 2.06.94-2.06 2.06-.94-2.06-.94-.94-2.06-.94 2.06-2.06.94z\"/><path d=\"M17.41 7.96l-1.37-1.37c-.4-.4-.92-.59-1.43-.59-.52 0-1.04.2-1.43.59L10.3 9.45l-7.72 7.72c-.78.78-.78 2.05 0 2.83L4 21.41c.39.39.9.59 1.41.59.51 0 1.02-.2 1.41-.59l7.78-7.78 2.81-2.81c.8-.78.8-2.07 0-2.86zM5.41 20L4 18.59l7.72-7.72 1.47 1.35L5.41 20z\"/>\n",
              "  </svg>\n",
              "      </button>\n",
              "      \n",
              "  <style>\n",
              "    .colab-df-container {\n",
              "      display:flex;\n",
              "      flex-wrap:wrap;\n",
              "      gap: 12px;\n",
              "    }\n",
              "\n",
              "    .colab-df-convert {\n",
              "      background-color: #E8F0FE;\n",
              "      border: none;\n",
              "      border-radius: 50%;\n",
              "      cursor: pointer;\n",
              "      display: none;\n",
              "      fill: #1967D2;\n",
              "      height: 32px;\n",
              "      padding: 0 0 0 0;\n",
              "      width: 32px;\n",
              "    }\n",
              "\n",
              "    .colab-df-convert:hover {\n",
              "      background-color: #E2EBFA;\n",
              "      box-shadow: 0px 1px 2px rgba(60, 64, 67, 0.3), 0px 1px 3px 1px rgba(60, 64, 67, 0.15);\n",
              "      fill: #174EA6;\n",
              "    }\n",
              "\n",
              "    [theme=dark] .colab-df-convert {\n",
              "      background-color: #3B4455;\n",
              "      fill: #D2E3FC;\n",
              "    }\n",
              "\n",
              "    [theme=dark] .colab-df-convert:hover {\n",
              "      background-color: #434B5C;\n",
              "      box-shadow: 0px 1px 3px 1px rgba(0, 0, 0, 0.15);\n",
              "      filter: drop-shadow(0px 1px 2px rgba(0, 0, 0, 0.3));\n",
              "      fill: #FFFFFF;\n",
              "    }\n",
              "  </style>\n",
              "\n",
              "      <script>\n",
              "        const buttonEl =\n",
              "          document.querySelector('#df-3a4b314b-10ba-4d6a-aa8d-3b63ef2d72df button.colab-df-convert');\n",
              "        buttonEl.style.display =\n",
              "          google.colab.kernel.accessAllowed ? 'block' : 'none';\n",
              "\n",
              "        async function convertToInteractive(key) {\n",
              "          const element = document.querySelector('#df-3a4b314b-10ba-4d6a-aa8d-3b63ef2d72df');\n",
              "          const dataTable =\n",
              "            await google.colab.kernel.invokeFunction('convertToInteractive',\n",
              "                                                     [key], {});\n",
              "          if (!dataTable) return;\n",
              "\n",
              "          const docLinkHtml = 'Like what you see? Visit the ' +\n",
              "            '<a target=\"_blank\" href=https://colab.research.google.com/notebooks/data_table.ipynb>data table notebook</a>'\n",
              "            + ' to learn more about interactive tables.';\n",
              "          element.innerHTML = '';\n",
              "          dataTable['output_type'] = 'display_data';\n",
              "          await google.colab.output.renderOutput(dataTable, element);\n",
              "          const docLink = document.createElement('div');\n",
              "          docLink.innerHTML = docLinkHtml;\n",
              "          element.appendChild(docLink);\n",
              "        }\n",
              "      </script>\n",
              "    </div>\n",
              "  </div>\n",
              "  "
            ]
          },
          "metadata": {},
          "execution_count": 4
        }
      ]
    },
    {
      "cell_type": "code",
      "source": [
        "fisttc = df[df[\"AcceptedCmp1\"]==1]\n",
        "lasttc = df[df[\"Response\"]==1]\n",
        "print(fisttc.shape, lasttc.shape)"
      ],
      "metadata": {
        "colab": {
          "base_uri": "https://localhost:8080/"
        },
        "id": "KYBjwauQEctk",
        "outputId": "765e3542-2977-410a-9120-0f7edb7024ae"
      },
      "execution_count": 5,
      "outputs": [
        {
          "output_type": "stream",
          "name": "stdout",
          "text": [
            "(144, 28) (334, 28)\n"
          ]
        }
      ]
    },
    {
      "cell_type": "code",
      "source": [
        "print(fisttc.mean()[1], lasttc.mean()[1])"
      ],
      "metadata": {
        "colab": {
          "base_uri": "https://localhost:8080/"
        },
        "id": "JP_qdSL1Fm_A",
        "outputId": "56d48bff-246d-47fe-efe8-92a9bb1b9f0e"
      },
      "execution_count": 6,
      "outputs": [
        {
          "output_type": "stream",
          "name": "stdout",
          "text": [
            "1968.5347222222222 1969.4161676646706\n"
          ]
        },
        {
          "output_type": "stream",
          "name": "stderr",
          "text": [
            "/usr/local/lib/python3.7/dist-packages/ipykernel_launcher.py:1: FutureWarning: Dropping of nuisance columns in DataFrame reductions (with 'numeric_only=None') is deprecated; in a future version this will raise TypeError.  Select only valid columns before calling the reduction.\n",
            "  \"\"\"Entry point for launching an IPython kernel.\n"
          ]
        }
      ]
    },
    {
      "cell_type": "code",
      "source": [
        "print(fisttc.mean()[2], lasttc.mean()[2])"
      ],
      "metadata": {
        "colab": {
          "base_uri": "https://localhost:8080/"
        },
        "id": "W5LrdlCRHHdN",
        "outputId": "cb9c6400-cdbc-4306-9d42-48ed54566b5b"
      },
      "execution_count": 7,
      "outputs": [
        {
          "output_type": "stream",
          "name": "stdout",
          "text": [
            "0.09027777777777778 0.3413173652694611\n"
          ]
        },
        {
          "output_type": "stream",
          "name": "stderr",
          "text": [
            "/usr/local/lib/python3.7/dist-packages/ipykernel_launcher.py:1: FutureWarning: Dropping of nuisance columns in DataFrame reductions (with 'numeric_only=None') is deprecated; in a future version this will raise TypeError.  Select only valid columns before calling the reduction.\n",
            "  \"\"\"Entry point for launching an IPython kernel.\n"
          ]
        }
      ]
    },
    {
      "cell_type": "code",
      "source": [
        "print(fisttc.mean()[4], lasttc.mean()[4])"
      ],
      "metadata": {
        "colab": {
          "base_uri": "https://localhost:8080/"
        },
        "id": "xSyunC4XHKH8",
        "outputId": "67a1b9d5-e7e0-43b3-a261-7d9c5f09a712"
      },
      "execution_count": 8,
      "outputs": [
        {
          "output_type": "stream",
          "name": "stdout",
          "text": [
            "46.979166666666664 35.383233532934135\n"
          ]
        },
        {
          "output_type": "stream",
          "name": "stderr",
          "text": [
            "/usr/local/lib/python3.7/dist-packages/ipykernel_launcher.py:1: FutureWarning: Dropping of nuisance columns in DataFrame reductions (with 'numeric_only=None') is deprecated; in a future version this will raise TypeError.  Select only valid columns before calling the reduction.\n",
            "  \"\"\"Entry point for launching an IPython kernel.\n"
          ]
        }
      ]
    },
    {
      "cell_type": "code",
      "source": [
        "df.groupby(by = 'Education')[\"AcceptedCmp1\"].sum()"
      ],
      "metadata": {
        "colab": {
          "base_uri": "https://localhost:8080/"
        },
        "id": "tdSvmo7cJ_hE",
        "outputId": "293abfb5-d3e5-4d73-8027-aad6ae8d2c7f"
      },
      "execution_count": 9,
      "outputs": [
        {
          "output_type": "execute_result",
          "data": {
            "text/plain": [
              "Education\n",
              "2n Cycle      14\n",
              "Basic          0\n",
              "Graduation    82\n",
              "Master        18\n",
              "PhD           30\n",
              "Name: AcceptedCmp1, dtype: int64"
            ]
          },
          "metadata": {},
          "execution_count": 9
        }
      ]
    },
    {
      "cell_type": "code",
      "source": [
        "df.groupby(by = 'Education')[\"AcceptedCmp1\"].count()"
      ],
      "metadata": {
        "colab": {
          "base_uri": "https://localhost:8080/"
        },
        "id": "qZvHJTWcKOxD",
        "outputId": "69cacc88-abfc-43ef-8d45-9f315a7d17a1"
      },
      "execution_count": 10,
      "outputs": [
        {
          "output_type": "execute_result",
          "data": {
            "text/plain": [
              "Education\n",
              "2n Cycle       203\n",
              "Basic           54\n",
              "Graduation    1127\n",
              "Master         370\n",
              "PhD            486\n",
              "Name: AcceptedCmp1, dtype: int64"
            ]
          },
          "metadata": {},
          "execution_count": 10
        }
      ]
    },
    {
      "cell_type": "code",
      "source": [
        "conversion_by_edu = df.groupby(by = 'Education')[\"AcceptedCmp1\"].sum() / df.groupby(by = 'Education')[\"AcceptedCmp1\"].count()"
      ],
      "metadata": {
        "id": "HDCREhfbNgYp"
      },
      "execution_count": 11,
      "outputs": []
    },
    {
      "cell_type": "code",
      "source": [
        "conversion_by_edu = pd.DataFrame(conversion_by_edu)"
      ],
      "metadata": {
        "id": "DDQe-Ou0NnFq"
      },
      "execution_count": 12,
      "outputs": []
    },
    {
      "cell_type": "code",
      "source": [
        "import matplotlib.pyplot as plt"
      ],
      "metadata": {
        "id": "ykSJXvdDOBIj"
      },
      "execution_count": 13,
      "outputs": []
    },
    {
      "cell_type": "code",
      "source": [
        "axx = conversion_by_edu.loc[['Basic','Master','PhD','2n Cycle','Graduation']].plot(\n",
        "    kind = 'bar', color = 'green', grid = True, figsize = (10, 7), title = \"Conversion Rates Education\"\n",
        ")\n",
        "axx.set_xlabel(\"Education\")\n",
        "axx.set_ylabel(\"Conversion Rates %\")\n",
        "plt.show"
      ],
      "metadata": {
        "colab": {
          "base_uri": "https://localhost:8080/",
          "height": 521
        },
        "id": "EQX4XbAZOOCy",
        "outputId": "c79df4dc-f202-4cc2-bf5c-5cc5fab732c9"
      },
      "execution_count": 14,
      "outputs": [
        {
          "output_type": "execute_result",
          "data": {
            "text/plain": [
              "<function matplotlib.pyplot.show(*args, **kw)>"
            ]
          },
          "metadata": {},
          "execution_count": 14
        },
        {
          "output_type": "display_data",
          "data": {
            "text/plain": [
              "<Figure size 720x504 with 1 Axes>"
            ],
            "image/png": "[encoded data removed]"
          },
          "metadata": {
            "needs_background": "light"
          }
        }
      ]
    },
    {
      "cell_type": "code",
      "source": [
        "from sklearn.tree import DecisionTreeClassifier\n",
        "from sklearn.model_selection import train_test_split\n",
        "from sklearn.tree import export_graphviz\n",
        "import graphviz"
      ],
      "metadata": {
        "id": "2UPCntANWVbg"
      },
      "execution_count": 15,
      "outputs": []
    },
    {
      "cell_type": "code",
      "source": [
        "df[\"Compras Totales\"] = df.AcceptedCmp1 + df.AcceptedCmp2 + df.AcceptedCmp3 + df.AcceptedCmp4 +  df.AcceptedCmp5"
      ],
      "metadata": {
        "id": "FyS9ZGsFYPSw"
      },
      "execution_count": 22,
      "outputs": []
    },
    {
      "cell_type": "code",
      "source": [
        "df[\"Engaged\"] = df[\"Compras Totales\"].apply(lambda x: 0 if x == 0 else 1)"
      ],
      "metadata": {
        "id": "1PqqKOiJWr05"
      },
      "execution_count": 23,
      "outputs": []
    },
    {
      "cell_type": "code",
      "source": [
        "df.head()"
      ],
      "metadata": {
        "colab": {
          "base_uri": "https://localhost:8080/",
          "height": 317
        },
        "id": "DASf0U_NW_8w",
        "outputId": "755611ca-22d2-48da-b808-6d252ab9d5a4"
      },
      "execution_count": 24,
      "outputs": [
        {
          "output_type": "execute_result",
          "data": {
            "text/plain": [
              "      ID  Year_Birth   Education Marital_Status     Income   Kidhome  \\\n",
              "0   1826        1970  Graduation       Divorced  $84,835.00        0   \n",
              "1      1        1961  Graduation         Single  $57,091.00        0   \n",
              "2  10476        1958  Graduation        Married  $67,267.00        0   \n",
              "3   1386        1967  Graduation       Together  $32,474.00        1   \n",
              "4   5371        1989  Graduation         Single  $21,474.00        1   \n",
              "\n",
              "   Teenhome Dt_Customer  Recency  MntWines  ...  AcceptedCmp3  AcceptedCmp4  \\\n",
              "0         0     6/16/14        0       189  ...             0             0   \n",
              "1         0     6/15/14        0       464  ...             0             0   \n",
              "2         1     5/13/14        0       134  ...             0             0   \n",
              "3         1  05/11/2014        0        10  ...             0             0   \n",
              "4         0  04/08/2014        0         6  ...             1             0   \n",
              "\n",
              "   AcceptedCmp5  AcceptedCmp1  AcceptedCmp2  Response  Complain  Country  \\\n",
              "0             0             0             0         1         0       SP   \n",
              "1             0             0             1         1         0       CA   \n",
              "2             0             0             0         0         0       US   \n",
              "3             0             0             0         0         0      AUS   \n",
              "4             0             0             0         1         0       SP   \n",
              "\n",
              "   Compras Totales  Engaged  \n",
              "0                0        0  \n",
              "1                1        1  \n",
              "2                0        0  \n",
              "3                0        0  \n",
              "4                1        1  \n",
              "\n",
              "[5 rows x 30 columns]"
            ],
            "text/html": [
              "\n",
              "  <div id=\"df-e1714e70-caba-46a6-b380-e7de6920069c\">\n",
              "    <div class=\"colab-df-container\">\n",
              "      <div>\n",
              "<style scoped>\n",
              "    .dataframe tbody tr th:only-of-type {\n",
              "        vertical-align: middle;\n",
              "    }\n",
              "\n",
              "    .dataframe tbody tr th {\n",
              "        vertical-align: top;\n",
              "    }\n",
              "\n",
              "    .dataframe thead th {\n",
              "        text-align: right;\n",
              "    }\n",
              "</style>\n",
              "<table border=\"1\" class=\"dataframe\">\n",
              "  <thead>\n",
              "    <tr style=\"text-align: right;\">\n",
              "      <th></th>\n",
              "      <th>ID</th>\n",
              "      <th>Year_Birth</th>\n",
              "      <th>Education</th>\n",
              "      <th>Marital_Status</th>\n",
              "      <th>Income</th>\n",
              "      <th>Kidhome</th>\n",
              "      <th>Teenhome</th>\n",
              "      <th>Dt_Customer</th>\n",
              "      <th>Recency</th>\n",
              "      <th>MntWines</th>\n",
              "      <th>...</th>\n",
              "      <th>AcceptedCmp3</th>\n",
              "      <th>AcceptedCmp4</th>\n",
              "      <th>AcceptedCmp5</th>\n",
              "      <th>AcceptedCmp1</th>\n",
              "      <th>AcceptedCmp2</th>\n",
              "      <th>Response</th>\n",
              "      <th>Complain</th>\n",
              "      <th>Country</th>\n",
              "      <th>Compras Totales</th>\n",
              "      <th>Engaged</th>\n",
              "    </tr>\n",
              "  </thead>\n",
              "  <tbody>\n",
              "    <tr>\n",
              "      <th>0</th>\n",
              "      <td>1826</td>\n",
              "      <td>1970</td>\n",
              "      <td>Graduation</td>\n",
              "      <td>Divorced</td>\n",
              "      <td>$84,835.00</td>\n",
              "      <td>0</td>\n",
              "      <td>0</td>\n",
              "      <td>6/16/14</td>\n",
              "      <td>0</td>\n",
              "      <td>189</td>\n",
              "      <td>...</td>\n",
              "      <td>0</td>\n",
              "      <td>0</td>\n",
              "      <td>0</td>\n",
              "      <td>0</td>\n",
              "      <td>0</td>\n",
              "      <td>1</td>\n",
              "      <td>0</td>\n",
              "      <td>SP</td>\n",
              "      <td>0</td>\n",
              "      <td>0</td>\n",
              "    </tr>\n",
              "    <tr>\n",
              "      <th>1</th>\n",
              "      <td>1</td>\n",
              "      <td>1961</td>\n",
              "      <td>Graduation</td>\n",
              "      <td>Single</td>\n",
              "      <td>$57,091.00</td>\n",
              "      <td>0</td>\n",
              "      <td>0</td>\n",
              "      <td>6/15/14</td>\n",
              "      <td>0</td>\n",
              "      <td>464</td>\n",
              "      <td>...</td>\n",
              "      <td>0</td>\n",
              "      <td>0</td>\n",
              "      <td>0</td>\n",
              "      <td>0</td>\n",
              "      <td>1</td>\n",
              "      <td>1</td>\n",
              "      <td>0</td>\n",
              "      <td>CA</td>\n",
              "      <td>1</td>\n",
              "      <td>1</td>\n",
              "    </tr>\n",
              "    <tr>\n",
              "      <th>2</th>\n",
              "      <td>10476</td>\n",
              "      <td>1958</td>\n",
              "      <td>Graduation</td>\n",
              "      <td>Married</td>\n",
              "      <td>$67,267.00</td>\n",
              "      <td>0</td>\n",
              "      <td>1</td>\n",
              "      <td>5/13/14</td>\n",
              "      <td>0</td>\n",
              "      <td>134</td>\n",
              "      <td>...</td>\n",
              "      <td>0</td>\n",
              "      <td>0</td>\n",
              "      <td>0</td>\n",
              "      <td>0</td>\n",
              "      <td>0</td>\n",
              "      <td>0</td>\n",
              "      <td>0</td>\n",
              "      <td>US</td>\n",
              "      <td>0</td>\n",
              "      <td>0</td>\n",
              "    </tr>\n",
              "    <tr>\n",
              "      <th>3</th>\n",
              "      <td>1386</td>\n",
              "      <td>1967</td>\n",
              "      <td>Graduation</td>\n",
              "      <td>Together</td>\n",
              "      <td>$32,474.00</td>\n",
              "      <td>1</td>\n",
              "      <td>1</td>\n",
              "      <td>05/11/2014</td>\n",
              "      <td>0</td>\n",
              "      <td>10</td>\n",
              "      <td>...</td>\n",
              "      <td>0</td>\n",
              "      <td>0</td>\n",
              "      <td>0</td>\n",
              "      <td>0</td>\n",
              "      <td>0</td>\n",
              "      <td>0</td>\n",
              "      <td>0</td>\n",
              "      <td>AUS</td>\n",
              "      <td>0</td>\n",
              "      <td>0</td>\n",
              "    </tr>\n",
              "    <tr>\n",
              "      <th>4</th>\n",
              "      <td>5371</td>\n",
              "      <td>1989</td>\n",
              "      <td>Graduation</td>\n",
              "      <td>Single</td>\n",
              "      <td>$21,474.00</td>\n",
              "      <td>1</td>\n",
              "      <td>0</td>\n",
              "      <td>04/08/2014</td>\n",
              "      <td>0</td>\n",
              "      <td>6</td>\n",
              "      <td>...</td>\n",
              "      <td>1</td>\n",
              "      <td>0</td>\n",
              "      <td>0</td>\n",
              "      <td>0</td>\n",
              "      <td>0</td>\n",
              "      <td>1</td>\n",
              "      <td>0</td>\n",
              "      <td>SP</td>\n",
              "      <td>1</td>\n",
              "      <td>1</td>\n",
              "    </tr>\n",
              "  </tbody>\n",
              "</table>\n",
              "<p>5 rows × 30 columns</p>\n",
              "</div>\n",
              "      <button class=\"colab-df-convert\" onclick=\"convertToInteractive('df-e1714e70-caba-46a6-b380-e7de6920069c')\"\n",
              "              title=\"Convert this dataframe to an interactive table.\"\n",
              "              style=\"display:none;\">\n",
              "        \n",
              "  <svg xmlns=\"http://www.w3.org/2000/svg\" height=\"24px\"viewBox=\"0 0 24 24\"\n",
              "       width=\"24px\">\n",
              "    <path d=\"M0 0h24v24H0V0z\" fill=\"none\"/>\n",
              "    <path d=\"M18.56 5.44l.94 2.06.94-2.06 2.06-.94-2.06-.94-.94-2.06-.94 2.06-2.06.94zm-11 1L8.5 8.5l.94-2.06 2.06-.94-2.06-.94L8.5 2.5l-.94 2.06-2.06.94zm10 10l.94 2.06.94-2.06 2.06-.94-2.06-.94-.94-2.06-.94 2.06-2.06.94z\"/><path d=\"M17.41 7.96l-1.37-1.37c-.4-.4-.92-.59-1.43-.59-.52 0-1.04.2-1.43.59L10.3 9.45l-7.72 7.72c-.78.78-.78 2.05 0 2.83L4 21.41c.39.39.9.59 1.41.59.51 0 1.02-.2 1.41-.59l7.78-7.78 2.81-2.81c.8-.78.8-2.07 0-2.86zM5.41 20L4 18.59l7.72-7.72 1.47 1.35L5.41 20z\"/>\n",
              "  </svg>\n",
              "      </button>\n",
              "      \n",
              "  <style>\n",
              "    .colab-df-container {\n",
              "      display:flex;\n",
              "      flex-wrap:wrap;\n",
              "      gap: 12px;\n",
              "    }\n",
              "\n",
              "    .colab-df-convert {\n",
              "      background-color: #E8F0FE;\n",
              "      border: none;\n",
              "      border-radius: 50%;\n",
              "      cursor: pointer;\n",
              "      display: none;\n",
              "      fill: #1967D2;\n",
              "      height: 32px;\n",
              "      padding: 0 0 0 0;\n",
              "      width: 32px;\n",
              "    }\n",
              "\n",
              "    .colab-df-convert:hover {\n",
              "      background-color: #E2EBFA;\n",
              "      box-shadow: 0px 1px 2px rgba(60, 64, 67, 0.3), 0px 1px 3px 1px rgba(60, 64, 67, 0.15);\n",
              "      fill: #174EA6;\n",
              "    }\n",
              "\n",
              "    [theme=dark] .colab-df-convert {\n",
              "      background-color: #3B4455;\n",
              "      fill: #D2E3FC;\n",
              "    }\n",
              "\n",
              "    [theme=dark] .colab-df-convert:hover {\n",
              "      background-color: #434B5C;\n",
              "      box-shadow: 0px 1px 3px 1px rgba(0, 0, 0, 0.15);\n",
              "      filter: drop-shadow(0px 1px 2px rgba(0, 0, 0, 0.3));\n",
              "      fill: #FFFFFF;\n",
              "    }\n",
              "  </style>\n",
              "\n",
              "      <script>\n",
              "        const buttonEl =\n",
              "          document.querySelector('#df-e1714e70-caba-46a6-b380-e7de6920069c button.colab-df-convert');\n",
              "        buttonEl.style.display =\n",
              "          google.colab.kernel.accessAllowed ? 'block' : 'none';\n",
              "\n",
              "        async function convertToInteractive(key) {\n",
              "          const element = document.querySelector('#df-e1714e70-caba-46a6-b380-e7de6920069c');\n",
              "          const dataTable =\n",
              "            await google.colab.kernel.invokeFunction('convertToInteractive',\n",
              "                                                     [key], {});\n",
              "          if (!dataTable) return;\n",
              "\n",
              "          const docLinkHtml = 'Like what you see? Visit the ' +\n",
              "            '<a target=\"_blank\" href=https://colab.research.google.com/notebooks/data_table.ipynb>data table notebook</a>'\n",
              "            + ' to learn more about interactive tables.';\n",
              "          element.innerHTML = '';\n",
              "          dataTable['output_type'] = 'display_data';\n",
              "          await google.colab.output.renderOutput(dataTable, element);\n",
              "          const docLink = document.createElement('div');\n",
              "          docLink.innerHTML = docLinkHtml;\n",
              "          element.appendChild(docLink);\n",
              "        }\n",
              "      </script>\n",
              "    </div>\n",
              "  </div>\n",
              "  "
            ]
          },
          "metadata": {},
          "execution_count": 24
        }
      ]
    },
    {
      "cell_type": "code",
      "source": [
        "continuos_var = ['Kidhome','Teenhome','Recency','MntWines','MntFruits','MntMeatProducts','MntFishProducts',\n",
        "                 'MntSweetProducts','MntGoldProds','NumDealsPurchases','NumWebPurchases','NumCatalogPurchases','NumStorePurchases',\n",
        "                 'NumWebVisitsMonth','Complain']"
      ],
      "metadata": {
        "id": "3HqgKwc2bL9Q"
      },
      "execution_count": 32,
      "outputs": []
    },
    {
      "cell_type": "code",
      "source": [
        "import statsmodels.api as sm"
      ],
      "metadata": {
        "id": "1W6KhvGfY3_h"
      },
      "execution_count": 25,
      "outputs": []
    },
    {
      "cell_type": "code",
      "source": [
        "logit = sm.Logit(df['Engaged'], df[continuos_var])"
      ],
      "metadata": {
        "id": "H9QsfMbOZDUg"
      },
      "execution_count": 33,
      "outputs": []
    },
    {
      "cell_type": "code",
      "source": [
        "logit_fit = logit.fit()"
      ],
      "metadata": {
        "colab": {
          "base_uri": "https://localhost:8080/"
        },
        "id": "lc45SUSFdMvQ",
        "outputId": "28b59f7f-d9e6-489c-be33-0b750b55523e"
      },
      "execution_count": 34,
      "outputs": [
        {
          "output_type": "stream",
          "name": "stdout",
          "text": [
            "Optimization terminated successfully.\n",
            "         Current function value: 0.404348\n",
            "         Iterations 7\n"
          ]
        }
      ]
    },
    {
      "cell_type": "code",
      "source": [
        "logit_fit.summary()"
      ],
      "metadata": {
        "colab": {
          "base_uri": "https://localhost:8080/",
          "height": 530
        },
        "id": "k7MAsj7tdniQ",
        "outputId": "ae2275e4-75a2-451a-a107-59f13df9c98d"
      },
      "execution_count": 35,
      "outputs": [
        {
          "output_type": "execute_result",
          "data": {
            "text/plain": [
              "<class 'statsmodels.iolib.summary.Summary'>\n",
              "\"\"\"\n",
              "                           Logit Regression Results                           \n",
              "==============================================================================\n",
              "Dep. Variable:                Engaged   No. Observations:                 2240\n",
              "Model:                          Logit   Df Residuals:                     2225\n",
              "Method:                           MLE   Df Model:                           14\n",
              "Date:                Tue, 25 Oct 2022   Pseudo R-squ.:                  0.2065\n",
              "Time:                        23:25:18   Log-Likelihood:                -905.74\n",
              "converged:                       True   LL-Null:                       -1141.4\n",
              "Covariance Type:            nonrobust   LLR p-value:                 1.116e-91\n",
              "=======================================================================================\n",
              "                          coef    std err          z      P>|z|      [0.025      0.975]\n",
              "---------------------------------------------------------------------------------------\n",
              "Kidhome                -0.2924      0.159     -1.841      0.066      -0.604       0.019\n",
              "Teenhome               -0.6246      0.139     -4.479      0.000      -0.898      -0.351\n",
              "Recency                -0.0078      0.002     -3.979      0.000      -0.012      -0.004\n",
              "MntWines                0.0040      0.000     14.387      0.000       0.003       0.005\n",
              "MntFruits              -0.0061      0.002     -3.171      0.002      -0.010      -0.002\n",
              "MntMeatProducts        -0.0003      0.000     -0.938      0.348      -0.001       0.000\n",
              "MntFishProducts        -0.0020      0.001     -1.426      0.154      -0.005       0.001\n",
              "MntSweetProducts       -0.0006      0.002     -0.349      0.727      -0.004       0.003\n",
              "MntGoldProds            0.0019      0.001      1.584      0.113      -0.000       0.004\n",
              "NumDealsPurchases      -0.0724      0.043     -1.665      0.096      -0.158       0.013\n",
              "NumWebPurchases         0.0133      0.026      0.518      0.604      -0.037       0.064\n",
              "NumCatalogPurchases     0.0308      0.029      1.051      0.293      -0.027       0.088\n",
              "NumStorePurchases      -0.1869      0.023     -7.978      0.000      -0.233      -0.141\n",
              "NumWebVisitsMonth      -0.1149      0.027     -4.323      0.000      -0.167      -0.063\n",
              "Complain               -0.4392      0.804     -0.546      0.585      -2.016       1.137\n",
              "=======================================================================================\n",
              "\"\"\""
            ],
            "text/html": [
              "<table class=\"simpletable\">\n",
              "<caption>Logit Regression Results</caption>\n",
              "<tr>\n",
              "  <th>Dep. Variable:</th>        <td>Engaged</td>     <th>  No. Observations:  </th>  <td>  2240</td>  \n",
              "</tr>\n",
              "<tr>\n",
              "  <th>Model:</th>                 <td>Logit</td>      <th>  Df Residuals:      </th>  <td>  2225</td>  \n",
              "</tr>\n",
              "<tr>\n",
              "  <th>Method:</th>                 <td>MLE</td>       <th>  Df Model:          </th>  <td>    14</td>  \n",
              "</tr>\n",
              "<tr>\n",
              "  <th>Date:</th>            <td>Tue, 25 Oct 2022</td> <th>  Pseudo R-squ.:     </th>  <td>0.2065</td>  \n",
              "</tr>\n",
              "<tr>\n",
              "  <th>Time:</th>                <td>23:25:18</td>     <th>  Log-Likelihood:    </th> <td> -905.74</td> \n",
              "</tr>\n",
              "<tr>\n",
              "  <th>converged:</th>             <td>True</td>       <th>  LL-Null:           </th> <td> -1141.4</td> \n",
              "</tr>\n",
              "<tr>\n",
              "  <th>Covariance Type:</th>     <td>nonrobust</td>    <th>  LLR p-value:       </th> <td>1.116e-91</td>\n",
              "</tr>\n",
              "</table>\n",
              "<table class=\"simpletable\">\n",
              "<tr>\n",
              "           <td></td>              <th>coef</th>     <th>std err</th>      <th>z</th>      <th>P>|z|</th>  <th>[0.025</th>    <th>0.975]</th>  \n",
              "</tr>\n",
              "<tr>\n",
              "  <th>Kidhome</th>             <td>   -0.2924</td> <td>    0.159</td> <td>   -1.841</td> <td> 0.066</td> <td>   -0.604</td> <td>    0.019</td>\n",
              "</tr>\n",
              "<tr>\n",
              "  <th>Teenhome</th>            <td>   -0.6246</td> <td>    0.139</td> <td>   -4.479</td> <td> 0.000</td> <td>   -0.898</td> <td>   -0.351</td>\n",
              "</tr>\n",
              "<tr>\n",
              "  <th>Recency</th>             <td>   -0.0078</td> <td>    0.002</td> <td>   -3.979</td> <td> 0.000</td> <td>   -0.012</td> <td>   -0.004</td>\n",
              "</tr>\n",
              "<tr>\n",
              "  <th>MntWines</th>            <td>    0.0040</td> <td>    0.000</td> <td>   14.387</td> <td> 0.000</td> <td>    0.003</td> <td>    0.005</td>\n",
              "</tr>\n",
              "<tr>\n",
              "  <th>MntFruits</th>           <td>   -0.0061</td> <td>    0.002</td> <td>   -3.171</td> <td> 0.002</td> <td>   -0.010</td> <td>   -0.002</td>\n",
              "</tr>\n",
              "<tr>\n",
              "  <th>MntMeatProducts</th>     <td>   -0.0003</td> <td>    0.000</td> <td>   -0.938</td> <td> 0.348</td> <td>   -0.001</td> <td>    0.000</td>\n",
              "</tr>\n",
              "<tr>\n",
              "  <th>MntFishProducts</th>     <td>   -0.0020</td> <td>    0.001</td> <td>   -1.426</td> <td> 0.154</td> <td>   -0.005</td> <td>    0.001</td>\n",
              "</tr>\n",
              "<tr>\n",
              "  <th>MntSweetProducts</th>    <td>   -0.0006</td> <td>    0.002</td> <td>   -0.349</td> <td> 0.727</td> <td>   -0.004</td> <td>    0.003</td>\n",
              "</tr>\n",
              "<tr>\n",
              "  <th>MntGoldProds</th>        <td>    0.0019</td> <td>    0.001</td> <td>    1.584</td> <td> 0.113</td> <td>   -0.000</td> <td>    0.004</td>\n",
              "</tr>\n",
              "<tr>\n",
              "  <th>NumDealsPurchases</th>   <td>   -0.0724</td> <td>    0.043</td> <td>   -1.665</td> <td> 0.096</td> <td>   -0.158</td> <td>    0.013</td>\n",
              "</tr>\n",
              "<tr>\n",
              "  <th>NumWebPurchases</th>     <td>    0.0133</td> <td>    0.026</td> <td>    0.518</td> <td> 0.604</td> <td>   -0.037</td> <td>    0.064</td>\n",
              "</tr>\n",
              "<tr>\n",
              "  <th>NumCatalogPurchases</th> <td>    0.0308</td> <td>    0.029</td> <td>    1.051</td> <td> 0.293</td> <td>   -0.027</td> <td>    0.088</td>\n",
              "</tr>\n",
              "<tr>\n",
              "  <th>NumStorePurchases</th>   <td>   -0.1869</td> <td>    0.023</td> <td>   -7.978</td> <td> 0.000</td> <td>   -0.233</td> <td>   -0.141</td>\n",
              "</tr>\n",
              "<tr>\n",
              "  <th>NumWebVisitsMonth</th>   <td>   -0.1149</td> <td>    0.027</td> <td>   -4.323</td> <td> 0.000</td> <td>   -0.167</td> <td>   -0.063</td>\n",
              "</tr>\n",
              "<tr>\n",
              "  <th>Complain</th>            <td>   -0.4392</td> <td>    0.804</td> <td>   -0.546</td> <td> 0.585</td> <td>   -2.016</td> <td>    1.137</td>\n",
              "</tr>\n",
              "</table>"
            ]
          },
          "metadata": {},
          "execution_count": 35
        }
      ]
    },
    {
      "cell_type": "code",
      "source": [
        "variables = [\"Recency\",'NumStorePurchases','Teenhome','MntWines']\n",
        "target = [\"Engaged\"]"
      ],
      "metadata": {
        "id": "qFIThpgcdwGw"
      },
      "execution_count": 38,
      "outputs": []
    },
    {
      "cell_type": "code",
      "source": [
        "sample_df = df[variables + target]"
      ],
      "metadata": {
        "id": "ndH6KS9UeXgQ"
      },
      "execution_count": 39,
      "outputs": []
    },
    {
      "cell_type": "code",
      "source": [
        "from sklearn import tree"
      ],
      "metadata": {
        "id": "5hQ8LvYjeiUY"
      },
      "execution_count": 40,
      "outputs": []
    },
    {
      "cell_type": "code",
      "source": [
        "dt_model = tree.DecisionTreeClassifier(max_depth=4)"
      ],
      "metadata": {
        "id": "szk982mse08o"
      },
      "execution_count": 41,
      "outputs": []
    },
    {
      "cell_type": "code",
      "source": [
        "dt_model.fit(df[variables], df[target])"
      ],
      "metadata": {
        "colab": {
          "base_uri": "https://localhost:8080/"
        },
        "id": "DBhnYatkemhP",
        "outputId": "06f69566-8606-447d-b14f-cd7fa2ed462c"
      },
      "execution_count": 45,
      "outputs": [
        {
          "output_type": "execute_result",
          "data": {
            "text/plain": [
              "DecisionTreeClassifier(max_depth=4)"
            ]
          },
          "metadata": {},
          "execution_count": 45
        }
      ]
    },
    {
      "cell_type": "code",
      "source": [
        "dot_data = tree.export_graphviz(dt_model, feature_names=variables, class_names = [\"0\",\"1\"],\n",
        "                                filled = True, rounded=True, special_characters=True)\n",
        "graph = graphviz.Source(dot_data)"
      ],
      "metadata": {
        "id": "7tQWY3PDf4bf"
      },
      "execution_count": 46,
      "outputs": []
    },
    {
      "cell_type": "code",
      "source": [
        "graph"
      ],
      "metadata": {
        "colab": {
          "base_uri": "https://localhost:8080/",
          "height": 777
        },
        "id": "1E26NPHlgkeg",
        "outputId": "91405402-e3d7-4038-8b28-b78b174c3583"
      },
      "execution_count": 47,
      "outputs": [
        {
          "output_type": "execute_result",
          "data": {
            "text/plain": [
              "<graphviz.files.Source at 0x7f1a70255a90>"
            ],
            "image/svg+xml": "<?xml version=\"1.0\" encoding=\"UTF-8\" standalone=\"no\"?>\n<!DOCTYPE svg PUBLIC \"-//W3C//DTD SVG 1.1//EN\"\n \"http://www.w3.org/Graphics/SVG/1.1/DTD/svg11.dtd\">\n<!-- Generated by graphviz version 2.40.1 (20161225.0304)\n -->\n<!-- Title: Tree Pages: 1 -->\n<svg width=\"2118pt\" height=\"552pt\"\n viewBox=\"0.00 0.00 2118.00 552.00\" xmlns=\"http://www.w3.org/2000/svg\" xmlns:xlink=\"http://www.w3.org/1999/xlink\">\n<g id=\"graph0\" class=\"graph\" transform=\"scale(1 1) rotate(0) translate(4 548)\">\n<title>Tree</title>\n<polygon fill=\"#ffffff\" stroke=\"transparent\" points=\"-4,4 -4,-548 2114,-548 2114,4 -4,4\"/>\n<!-- 0 -->\n<g id=\"node1\" class=\"node\">\n<title>0</title>\n<path fill=\"#eca26d\" stroke=\"#000000\" d=\"M1144,-544C1144,-544 1028,-544 1028,-544 1022,-544 1016,-538 1016,-532 1016,-532 1016,-473 1016,-473 1016,-467 1022,-461 1028,-461 1028,-461 1144,-461 1144,-461 1150,-461 1156,-467 1156,-473 1156,-473 1156,-532 1156,-532 1156,-538 1150,-544 1144,-544\"/>\n<text text-anchor=\"start\" x=\"1027.5\" y=\"-528.8\" font-family=\"Helvetica,sans-Serif\" font-size=\"14.00\" fill=\"#000000\">MntWines ≤ 672.0</text>\n<text text-anchor=\"start\" x=\"1048\" y=\"-513.8\" font-family=\"Helvetica,sans-Serif\" font-size=\"14.00\" fill=\"#000000\">gini = 0.328</text>\n<text text-anchor=\"start\" x=\"1034\" y=\"-498.8\" font-family=\"Helvetica,sans-Serif\" font-size=\"14.00\" fill=\"#000000\">samples = 2240</text>\n<text text-anchor=\"start\" x=\"1024\" y=\"-483.8\" font-family=\"Helvetica,sans-Serif\" font-size=\"14.00\" fill=\"#000000\">value = [1777, 463]</text>\n<text text-anchor=\"start\" x=\"1057\" y=\"-468.8\" font-family=\"Helvetica,sans-Serif\" font-size=\"14.00\" fill=\"#000000\">class = 0</text>\n</g>\n<!-- 1 -->\n<g id=\"node2\" class=\"node\">\n<title>1</title>\n<path fill=\"#e99457\" stroke=\"#000000\" d=\"M877,-425C877,-425 761,-425 761,-425 755,-425 749,-419 749,-413 749,-413 749,-354 749,-354 749,-348 755,-342 761,-342 761,-342 877,-342 877,-342 883,-342 889,-348 889,-354 889,-354 889,-413 889,-413 889,-419 883,-425 877,-425\"/>\n<text text-anchor=\"start\" x=\"760.5\" y=\"-409.8\" font-family=\"Helvetica,sans-Serif\" font-size=\"14.00\" fill=\"#000000\">MntWines ≤ 389.5</text>\n<text text-anchor=\"start\" x=\"781\" y=\"-394.8\" font-family=\"Helvetica,sans-Serif\" font-size=\"14.00\" fill=\"#000000\">gini = 0.229</text>\n<text text-anchor=\"start\" x=\"767\" y=\"-379.8\" font-family=\"Helvetica,sans-Serif\" font-size=\"14.00\" fill=\"#000000\">samples = 1885</text>\n<text text-anchor=\"start\" x=\"757\" y=\"-364.8\" font-family=\"Helvetica,sans-Serif\" font-size=\"14.00\" fill=\"#000000\">value = [1636, 249]</text>\n<text text-anchor=\"start\" x=\"790\" y=\"-349.8\" font-family=\"Helvetica,sans-Serif\" font-size=\"14.00\" fill=\"#000000\">class = 0</text>\n</g>\n<!-- 0&#45;&gt;1 -->\n<g id=\"edge1\" class=\"edge\">\n<title>0&#45;&gt;1</title>\n<path fill=\"none\" stroke=\"#000000\" d=\"M1015.8489,-471.2342C979.8126,-455.173 935.7592,-435.5388 898.471,-418.9196\"/>\n<polygon fill=\"#000000\" stroke=\"#000000\" points=\"899.7044,-415.6375 889.1457,-414.7634 896.8547,-422.0312 899.7044,-415.6375\"/>\n<text text-anchor=\"middle\" x=\"898.0958\" y=\"-434.4064\" font-family=\"Helvetica,sans-Serif\" font-size=\"14.00\" fill=\"#000000\">True</text>\n</g>\n<!-- 16 -->\n<g id=\"node17\" class=\"node\">\n<title>16</title>\n<path fill=\"#bbdef6\" stroke=\"#000000\" d=\"M1409.5,-425C1409.5,-425 1300.5,-425 1300.5,-425 1294.5,-425 1288.5,-419 1288.5,-413 1288.5,-413 1288.5,-354 1288.5,-354 1288.5,-348 1294.5,-342 1300.5,-342 1300.5,-342 1409.5,-342 1409.5,-342 1415.5,-342 1421.5,-348 1421.5,-354 1421.5,-354 1421.5,-413 1421.5,-413 1421.5,-419 1415.5,-425 1409.5,-425\"/>\n<text text-anchor=\"start\" x=\"1296.5\" y=\"-409.8\" font-family=\"Helvetica,sans-Serif\" font-size=\"14.00\" fill=\"#000000\">MntWines ≤ 963.0</text>\n<text text-anchor=\"start\" x=\"1317\" y=\"-394.8\" font-family=\"Helvetica,sans-Serif\" font-size=\"14.00\" fill=\"#000000\">gini = 0.479</text>\n<text text-anchor=\"start\" x=\"1307\" y=\"-379.8\" font-family=\"Helvetica,sans-Serif\" font-size=\"14.00\" fill=\"#000000\">samples = 355</text>\n<text text-anchor=\"start\" x=\"1297\" y=\"-364.8\" font-family=\"Helvetica,sans-Serif\" font-size=\"14.00\" fill=\"#000000\">value = [141, 214]</text>\n<text text-anchor=\"start\" x=\"1326\" y=\"-349.8\" font-family=\"Helvetica,sans-Serif\" font-size=\"14.00\" fill=\"#000000\">class = 1</text>\n</g>\n<!-- 0&#45;&gt;16 -->\n<g id=\"edge16\" class=\"edge\">\n<title>0&#45;&gt;16</title>\n<path fill=\"none\" stroke=\"#000000\" d=\"M1156.3252,-471.3896C1193.924,-454.7567 1240.262,-434.2577 1278.7267,-417.2417\"/>\n<polygon fill=\"#000000\" stroke=\"#000000\" points=\"1280.597,-420.2416 1288.3261,-412.9951 1277.765,-413.84 1280.597,-420.2416\"/>\n<text text-anchor=\"middle\" x=\"1279.3114\" y=\"-432.6133\" font-family=\"Helvetica,sans-Serif\" font-size=\"14.00\" fill=\"#000000\">False</text>\n</g>\n<!-- 2 -->\n<g id=\"node3\" class=\"node\">\n<title>2</title>\n<path fill=\"#e88e4e\" stroke=\"#000000\" d=\"M495.5,-306C495.5,-306 332.5,-306 332.5,-306 326.5,-306 320.5,-300 320.5,-294 320.5,-294 320.5,-235 320.5,-235 320.5,-229 326.5,-223 332.5,-223 332.5,-223 495.5,-223 495.5,-223 501.5,-223 507.5,-229 507.5,-235 507.5,-235 507.5,-294 507.5,-294 507.5,-300 501.5,-306 495.5,-306\"/>\n<text text-anchor=\"start\" x=\"328.5\" y=\"-290.8\" font-family=\"Helvetica,sans-Serif\" font-size=\"14.00\" fill=\"#000000\">NumStorePurchases ≤ 2.5</text>\n<text text-anchor=\"start\" x=\"376\" y=\"-275.8\" font-family=\"Helvetica,sans-Serif\" font-size=\"14.00\" fill=\"#000000\">gini = 0.171</text>\n<text text-anchor=\"start\" x=\"362\" y=\"-260.8\" font-family=\"Helvetica,sans-Serif\" font-size=\"14.00\" fill=\"#000000\">samples = 1518</text>\n<text text-anchor=\"start\" x=\"352\" y=\"-245.8\" font-family=\"Helvetica,sans-Serif\" font-size=\"14.00\" fill=\"#000000\">value = [1375, 143]</text>\n<text text-anchor=\"start\" x=\"385\" y=\"-230.8\" font-family=\"Helvetica,sans-Serif\" font-size=\"14.00\" fill=\"#000000\">class = 0</text>\n</g>\n<!-- 1&#45;&gt;2 -->\n<g id=\"edge2\" class=\"edge\">\n<title>1&#45;&gt;2</title>\n<path fill=\"none\" stroke=\"#000000\" d=\"M748.9167,-362.9076C685.1072,-344.1587 590.0602,-316.2313 517.503,-294.912\"/>\n<polygon fill=\"#000000\" stroke=\"#000000\" points=\"518.452,-291.5429 507.8709,-292.0818 516.4786,-298.259 518.452,-291.5429\"/>\n</g>\n<!-- 9 -->\n<g id=\"node10\" class=\"node\">\n<title>9</title>\n<path fill=\"#f0b489\" stroke=\"#000000\" d=\"M900.5,-306C900.5,-306 737.5,-306 737.5,-306 731.5,-306 725.5,-300 725.5,-294 725.5,-294 725.5,-235 725.5,-235 725.5,-229 731.5,-223 737.5,-223 737.5,-223 900.5,-223 900.5,-223 906.5,-223 912.5,-229 912.5,-235 912.5,-235 912.5,-294 912.5,-294 912.5,-300 906.5,-306 900.5,-306\"/>\n<text text-anchor=\"start\" x=\"733.5\" y=\"-290.8\" font-family=\"Helvetica,sans-Serif\" font-size=\"14.00\" fill=\"#000000\">NumStorePurchases ≤ 8.5</text>\n<text text-anchor=\"start\" x=\"781\" y=\"-275.8\" font-family=\"Helvetica,sans-Serif\" font-size=\"14.00\" fill=\"#000000\">gini = 0.411</text>\n<text text-anchor=\"start\" x=\"771\" y=\"-260.8\" font-family=\"Helvetica,sans-Serif\" font-size=\"14.00\" fill=\"#000000\">samples = 367</text>\n<text text-anchor=\"start\" x=\"761\" y=\"-245.8\" font-family=\"Helvetica,sans-Serif\" font-size=\"14.00\" fill=\"#000000\">value = [261, 106]</text>\n<text text-anchor=\"start\" x=\"790\" y=\"-230.8\" font-family=\"Helvetica,sans-Serif\" font-size=\"14.00\" fill=\"#000000\">class = 0</text>\n</g>\n<!-- 1&#45;&gt;9 -->\n<g id=\"edge9\" class=\"edge\">\n<title>1&#45;&gt;9</title>\n<path fill=\"none\" stroke=\"#000000\" d=\"M819,-341.8796C819,-333.6838 819,-324.9891 819,-316.5013\"/>\n<polygon fill=\"#000000\" stroke=\"#000000\" points=\"822.5001,-316.298 819,-306.2981 815.5001,-316.2981 822.5001,-316.298\"/>\n</g>\n<!-- 3 -->\n<g id=\"node4\" class=\"node\">\n<title>3</title>\n<path fill=\"#eca16c\" stroke=\"#000000\" d=\"M250.5,-187C250.5,-187 149.5,-187 149.5,-187 143.5,-187 137.5,-181 137.5,-175 137.5,-175 137.5,-116 137.5,-116 137.5,-110 143.5,-104 149.5,-104 149.5,-104 250.5,-104 250.5,-104 256.5,-104 262.5,-110 262.5,-116 262.5,-116 262.5,-175 262.5,-175 262.5,-181 256.5,-187 250.5,-187\"/>\n<text text-anchor=\"start\" x=\"145.5\" y=\"-171.8\" font-family=\"Helvetica,sans-Serif\" font-size=\"14.00\" fill=\"#000000\">MntWines ≤ 14.5</text>\n<text text-anchor=\"start\" x=\"162\" y=\"-156.8\" font-family=\"Helvetica,sans-Serif\" font-size=\"14.00\" fill=\"#000000\">gini = 0.325</text>\n<text text-anchor=\"start\" x=\"152\" y=\"-141.8\" font-family=\"Helvetica,sans-Serif\" font-size=\"14.00\" fill=\"#000000\">samples = 245</text>\n<text text-anchor=\"start\" x=\"146\" y=\"-126.8\" font-family=\"Helvetica,sans-Serif\" font-size=\"14.00\" fill=\"#000000\">value = [195, 50]</text>\n<text text-anchor=\"start\" x=\"171\" y=\"-111.8\" font-family=\"Helvetica,sans-Serif\" font-size=\"14.00\" fill=\"#000000\">class = 0</text>\n</g>\n<!-- 2&#45;&gt;3 -->\n<g id=\"edge3\" class=\"edge\">\n<title>2&#45;&gt;3</title>\n<path fill=\"none\" stroke=\"#000000\" d=\"M339.1532,-222.8796C317.2247,-210.6857 293.31,-197.3874 271.5895,-185.3091\"/>\n<polygon fill=\"#000000\" stroke=\"#000000\" points=\"273.1882,-182.1934 262.7476,-180.3923 269.7863,-188.3112 273.1882,-182.1934\"/>\n</g>\n<!-- 6 -->\n<g id=\"node7\" class=\"node\">\n<title>6</title>\n<path fill=\"#e78b49\" stroke=\"#000000\" d=\"M468,-187C468,-187 360,-187 360,-187 354,-187 348,-181 348,-175 348,-175 348,-116 348,-116 348,-110 354,-104 360,-104 360,-104 468,-104 468,-104 474,-104 480,-110 480,-116 480,-116 480,-175 480,-175 480,-181 474,-187 468,-187\"/>\n<text text-anchor=\"start\" x=\"359.5\" y=\"-171.8\" font-family=\"Helvetica,sans-Serif\" font-size=\"14.00\" fill=\"#000000\">MntWines ≤ 95.5</text>\n<text text-anchor=\"start\" x=\"376\" y=\"-156.8\" font-family=\"Helvetica,sans-Serif\" font-size=\"14.00\" fill=\"#000000\">gini = 0.135</text>\n<text text-anchor=\"start\" x=\"362\" y=\"-141.8\" font-family=\"Helvetica,sans-Serif\" font-size=\"14.00\" fill=\"#000000\">samples = 1273</text>\n<text text-anchor=\"start\" x=\"356\" y=\"-126.8\" font-family=\"Helvetica,sans-Serif\" font-size=\"14.00\" fill=\"#000000\">value = [1180, 93]</text>\n<text text-anchor=\"start\" x=\"385\" y=\"-111.8\" font-family=\"Helvetica,sans-Serif\" font-size=\"14.00\" fill=\"#000000\">class = 0</text>\n</g>\n<!-- 2&#45;&gt;6 -->\n<g id=\"edge6\" class=\"edge\">\n<title>2&#45;&gt;6</title>\n<path fill=\"none\" stroke=\"#000000\" d=\"M414,-222.8796C414,-214.6838 414,-205.9891 414,-197.5013\"/>\n<polygon fill=\"#000000\" stroke=\"#000000\" points=\"417.5001,-197.298 414,-187.2981 410.5001,-197.2981 417.5001,-197.298\"/>\n</g>\n<!-- 4 -->\n<g id=\"node5\" class=\"node\">\n<title>4</title>\n<path fill=\"#ea975c\" stroke=\"#000000\" d=\"M112,-68C112,-68 12,-68 12,-68 6,-68 0,-62 0,-56 0,-56 0,-12 0,-12 0,-6 6,0 12,0 12,0 112,0 112,0 118,0 124,-6 124,-12 124,-12 124,-56 124,-56 124,-62 118,-68 112,-68\"/>\n<text text-anchor=\"start\" x=\"24\" y=\"-52.8\" font-family=\"Helvetica,sans-Serif\" font-size=\"14.00\" fill=\"#000000\">gini = 0.253</text>\n<text text-anchor=\"start\" x=\"14\" y=\"-37.8\" font-family=\"Helvetica,sans-Serif\" font-size=\"14.00\" fill=\"#000000\">samples = 168</text>\n<text text-anchor=\"start\" x=\"8\" y=\"-22.8\" font-family=\"Helvetica,sans-Serif\" font-size=\"14.00\" fill=\"#000000\">value = [143, 25]</text>\n<text text-anchor=\"start\" x=\"33\" y=\"-7.8\" font-family=\"Helvetica,sans-Serif\" font-size=\"14.00\" fill=\"#000000\">class = 0</text>\n</g>\n<!-- 3&#45;&gt;4 -->\n<g id=\"edge4\" class=\"edge\">\n<title>3&#45;&gt;4</title>\n<path fill=\"none\" stroke=\"#000000\" d=\"M148.6139,-103.9815C136.7839,-94.4232 124.2136,-84.2668 112.4249,-74.7419\"/>\n<polygon fill=\"#000000\" stroke=\"#000000\" points=\"114.3851,-71.826 104.4071,-68.2637 109.9858,-77.2708 114.3851,-71.826\"/>\n</g>\n<!-- 5 -->\n<g id=\"node6\" class=\"node\">\n<title>5</title>\n<path fill=\"#f2be98\" stroke=\"#000000\" d=\"M246,-68C246,-68 154,-68 154,-68 148,-68 142,-62 142,-56 142,-56 142,-12 142,-12 142,-6 148,0 154,0 154,0 246,0 246,0 252,0 258,-6 258,-12 258,-12 258,-56 258,-56 258,-62 252,-68 246,-68\"/>\n<text text-anchor=\"start\" x=\"162\" y=\"-52.8\" font-family=\"Helvetica,sans-Serif\" font-size=\"14.00\" fill=\"#000000\">gini = 0.439</text>\n<text text-anchor=\"start\" x=\"156\" y=\"-37.8\" font-family=\"Helvetica,sans-Serif\" font-size=\"14.00\" fill=\"#000000\">samples = 77</text>\n<text text-anchor=\"start\" x=\"150\" y=\"-22.8\" font-family=\"Helvetica,sans-Serif\" font-size=\"14.00\" fill=\"#000000\">value = [52, 25]</text>\n<text text-anchor=\"start\" x=\"171\" y=\"-7.8\" font-family=\"Helvetica,sans-Serif\" font-size=\"14.00\" fill=\"#000000\">class = 0</text>\n</g>\n<!-- 3&#45;&gt;5 -->\n<g id=\"edge5\" class=\"edge\">\n<title>3&#45;&gt;5</title>\n<path fill=\"none\" stroke=\"#000000\" d=\"M200,-103.9815C200,-95.618 200,-86.7965 200,-78.3409\"/>\n<polygon fill=\"#000000\" stroke=\"#000000\" points=\"203.5001,-78.2636 200,-68.2637 196.5001,-78.2637 203.5001,-78.2636\"/>\n</g>\n<!-- 7 -->\n<g id=\"node8\" class=\"node\">\n<title>7</title>\n<path fill=\"#e6843e\" stroke=\"#000000\" d=\"M388,-68C388,-68 288,-68 288,-68 282,-68 276,-62 276,-56 276,-56 276,-12 276,-12 276,-6 282,0 288,0 288,0 388,0 388,0 394,0 400,-6 400,-12 400,-12 400,-56 400,-56 400,-62 394,-68 388,-68\"/>\n<text text-anchor=\"start\" x=\"300\" y=\"-52.8\" font-family=\"Helvetica,sans-Serif\" font-size=\"14.00\" fill=\"#000000\">gini = 0.045</text>\n<text text-anchor=\"start\" x=\"290\" y=\"-37.8\" font-family=\"Helvetica,sans-Serif\" font-size=\"14.00\" fill=\"#000000\">samples = 689</text>\n<text text-anchor=\"start\" x=\"284\" y=\"-22.8\" font-family=\"Helvetica,sans-Serif\" font-size=\"14.00\" fill=\"#000000\">value = [673, 16]</text>\n<text text-anchor=\"start\" x=\"309\" y=\"-7.8\" font-family=\"Helvetica,sans-Serif\" font-size=\"14.00\" fill=\"#000000\">class = 0</text>\n</g>\n<!-- 6&#45;&gt;7 -->\n<g id=\"edge7\" class=\"edge\">\n<title>6&#45;&gt;7</title>\n<path fill=\"none\" stroke=\"#000000\" d=\"M385.7004,-103.9815C379.6238,-95.0666 373.1926,-85.6313 367.0868,-76.6734\"/>\n<polygon fill=\"#000000\" stroke=\"#000000\" points=\"369.8789,-74.5555 361.3546,-68.2637 364.0948,-78.498 369.8789,-74.5555\"/>\n</g>\n<!-- 8 -->\n<g id=\"node9\" class=\"node\">\n<title>8</title>\n<path fill=\"#e99457\" stroke=\"#000000\" d=\"M530,-68C530,-68 430,-68 430,-68 424,-68 418,-62 418,-56 418,-56 418,-12 418,-12 418,-6 424,0 430,0 430,0 530,0 530,0 536,0 542,-6 542,-12 542,-12 542,-56 542,-56 542,-62 536,-68 530,-68\"/>\n<text text-anchor=\"start\" x=\"442\" y=\"-52.8\" font-family=\"Helvetica,sans-Serif\" font-size=\"14.00\" fill=\"#000000\">gini = 0.229</text>\n<text text-anchor=\"start\" x=\"432\" y=\"-37.8\" font-family=\"Helvetica,sans-Serif\" font-size=\"14.00\" fill=\"#000000\">samples = 584</text>\n<text text-anchor=\"start\" x=\"426\" y=\"-22.8\" font-family=\"Helvetica,sans-Serif\" font-size=\"14.00\" fill=\"#000000\">value = [507, 77]</text>\n<text text-anchor=\"start\" x=\"451\" y=\"-7.8\" font-family=\"Helvetica,sans-Serif\" font-size=\"14.00\" fill=\"#000000\">class = 0</text>\n</g>\n<!-- 6&#45;&gt;8 -->\n<g id=\"edge8\" class=\"edge\">\n<title>6&#45;&gt;8</title>\n<path fill=\"none\" stroke=\"#000000\" d=\"M438.576,-103.9815C443.7986,-95.1585 449.3229,-85.8258 454.5763,-76.9506\"/>\n<polygon fill=\"#000000\" stroke=\"#000000\" points=\"457.6364,-78.652 459.7184,-68.2637 451.6126,-75.0863 457.6364,-78.652\"/>\n</g>\n<!-- 10 -->\n<g id=\"node11\" class=\"node\">\n<title>10</title>\n<path fill=\"#f5cfb4\" stroke=\"#000000\" d=\"M800.5,-187C800.5,-187 691.5,-187 691.5,-187 685.5,-187 679.5,-181 679.5,-175 679.5,-175 679.5,-116 679.5,-116 679.5,-110 685.5,-104 691.5,-104 691.5,-104 800.5,-104 800.5,-104 806.5,-104 812.5,-110 812.5,-116 812.5,-116 812.5,-175 812.5,-175 812.5,-181 806.5,-187 800.5,-187\"/>\n<text text-anchor=\"start\" x=\"687.5\" y=\"-171.8\" font-family=\"Helvetica,sans-Serif\" font-size=\"14.00\" fill=\"#000000\">MntWines ≤ 559.5</text>\n<text text-anchor=\"start\" x=\"708\" y=\"-156.8\" font-family=\"Helvetica,sans-Serif\" font-size=\"14.00\" fill=\"#000000\">gini = 0.473</text>\n<text text-anchor=\"start\" x=\"698\" y=\"-141.8\" font-family=\"Helvetica,sans-Serif\" font-size=\"14.00\" fill=\"#000000\">samples = 193</text>\n<text text-anchor=\"start\" x=\"692\" y=\"-126.8\" font-family=\"Helvetica,sans-Serif\" font-size=\"14.00\" fill=\"#000000\">value = [119, 74]</text>\n<text text-anchor=\"start\" x=\"717\" y=\"-111.8\" font-family=\"Helvetica,sans-Serif\" font-size=\"14.00\" fill=\"#000000\">class = 0</text>\n</g>\n<!-- 9&#45;&gt;10 -->\n<g id=\"edge10\" class=\"edge\">\n<title>9&#45;&gt;10</title>\n<path fill=\"none\" stroke=\"#000000\" d=\"M793.4681,-222.8796C788.109,-214.1434 782.4021,-204.8404 776.8718,-195.8253\"/>\n<polygon fill=\"#000000\" stroke=\"#000000\" points=\"779.8533,-193.9919 771.6408,-187.2981 773.8865,-197.6522 779.8533,-193.9919\"/>\n</g>\n<!-- 13 -->\n<g id=\"node14\" class=\"node\">\n<title>13</title>\n<path fill=\"#eb9d66\" stroke=\"#000000\" d=\"M943,-187C943,-187 843,-187 843,-187 837,-187 831,-181 831,-175 831,-175 831,-116 831,-116 831,-110 837,-104 843,-104 843,-104 943,-104 943,-104 949,-104 955,-110 955,-116 955,-116 955,-175 955,-175 955,-181 949,-187 943,-187\"/>\n<text text-anchor=\"start\" x=\"840.5\" y=\"-171.8\" font-family=\"Helvetica,sans-Serif\" font-size=\"14.00\" fill=\"#000000\">Teenhome ≤ 0.5</text>\n<text text-anchor=\"start\" x=\"863.5\" y=\"-156.8\" font-family=\"Helvetica,sans-Serif\" font-size=\"14.00\" fill=\"#000000\">gini = 0.3</text>\n<text text-anchor=\"start\" x=\"845\" y=\"-141.8\" font-family=\"Helvetica,sans-Serif\" font-size=\"14.00\" fill=\"#000000\">samples = 174</text>\n<text text-anchor=\"start\" x=\"839\" y=\"-126.8\" font-family=\"Helvetica,sans-Serif\" font-size=\"14.00\" fill=\"#000000\">value = [142, 32]</text>\n<text text-anchor=\"start\" x=\"864\" y=\"-111.8\" font-family=\"Helvetica,sans-Serif\" font-size=\"14.00\" fill=\"#000000\">class = 0</text>\n</g>\n<!-- 9&#45;&gt;13 -->\n<g id=\"edge13\" class=\"edge\">\n<title>9&#45;&gt;13</title>\n<path fill=\"none\" stroke=\"#000000\" d=\"M844.8816,-222.8796C850.3142,-214.1434 856.0992,-204.8404 861.7053,-195.8253\"/>\n<polygon fill=\"#000000\" stroke=\"#000000\" points=\"864.6993,-197.6383 867.0079,-187.2981 858.7549,-193.9418 864.6993,-197.6383\"/>\n</g>\n<!-- 11 -->\n<g id=\"node12\" class=\"node\">\n<title>11</title>\n<path fill=\"#f9e1d0\" stroke=\"#000000\" d=\"M664,-68C664,-68 572,-68 572,-68 566,-68 560,-62 560,-56 560,-56 560,-12 560,-12 560,-6 566,0 572,0 572,0 664,0 664,0 670,0 676,-6 676,-12 676,-12 676,-56 676,-56 676,-62 670,-68 664,-68\"/>\n<text text-anchor=\"start\" x=\"580\" y=\"-52.8\" font-family=\"Helvetica,sans-Serif\" font-size=\"14.00\" fill=\"#000000\">gini = 0.491</text>\n<text text-anchor=\"start\" x=\"570\" y=\"-37.8\" font-family=\"Helvetica,sans-Serif\" font-size=\"14.00\" fill=\"#000000\">samples = 127</text>\n<text text-anchor=\"start\" x=\"568\" y=\"-22.8\" font-family=\"Helvetica,sans-Serif\" font-size=\"14.00\" fill=\"#000000\">value = [72, 55]</text>\n<text text-anchor=\"start\" x=\"589\" y=\"-7.8\" font-family=\"Helvetica,sans-Serif\" font-size=\"14.00\" fill=\"#000000\">class = 0</text>\n</g>\n<!-- 10&#45;&gt;11 -->\n<g id=\"edge11\" class=\"edge\">\n<title>10&#45;&gt;11</title>\n<path fill=\"none\" stroke=\"#000000\" d=\"M698.3375,-103.9815C687.4703,-94.5151 675.9295,-84.462 665.0865,-75.0168\"/>\n<polygon fill=\"#000000\" stroke=\"#000000\" points=\"667.1734,-72.1929 657.3341,-68.2637 662.5755,-77.4712 667.1734,-72.1929\"/>\n</g>\n<!-- 12 -->\n<g id=\"node13\" class=\"node\">\n<title>12</title>\n<path fill=\"#f0b489\" stroke=\"#000000\" d=\"M798,-68C798,-68 706,-68 706,-68 700,-68 694,-62 694,-56 694,-56 694,-12 694,-12 694,-6 700,0 706,0 706,0 798,0 798,0 804,0 810,-6 810,-12 810,-12 810,-56 810,-56 810,-62 804,-68 798,-68\"/>\n<text text-anchor=\"start\" x=\"718.5\" y=\"-52.8\" font-family=\"Helvetica,sans-Serif\" font-size=\"14.00\" fill=\"#000000\">gini = 0.41</text>\n<text text-anchor=\"start\" x=\"708\" y=\"-37.8\" font-family=\"Helvetica,sans-Serif\" font-size=\"14.00\" fill=\"#000000\">samples = 66</text>\n<text text-anchor=\"start\" x=\"702\" y=\"-22.8\" font-family=\"Helvetica,sans-Serif\" font-size=\"14.00\" fill=\"#000000\">value = [47, 19]</text>\n<text text-anchor=\"start\" x=\"723\" y=\"-7.8\" font-family=\"Helvetica,sans-Serif\" font-size=\"14.00\" fill=\"#000000\">class = 0</text>\n</g>\n<!-- 10&#45;&gt;12 -->\n<g id=\"edge12\" class=\"edge\">\n<title>10&#45;&gt;12</title>\n<path fill=\"none\" stroke=\"#000000\" d=\"M748.2342,-103.9815C748.6842,-95.618 749.1589,-86.7965 749.6139,-78.3409\"/>\n<polygon fill=\"#000000\" stroke=\"#000000\" points=\"753.1137,-78.4373 750.1562,-68.2637 746.1238,-78.0611 753.1137,-78.4373\"/>\n</g>\n<!-- 14 -->\n<g id=\"node15\" class=\"node\">\n<title>14</title>\n<path fill=\"#f0b78e\" stroke=\"#000000\" d=\"M932,-68C932,-68 840,-68 840,-68 834,-68 828,-62 828,-56 828,-56 828,-12 828,-12 828,-6 834,0 840,0 840,0 932,0 932,0 938,0 944,-6 944,-12 944,-12 944,-56 944,-56 944,-62 938,-68 932,-68\"/>\n<text text-anchor=\"start\" x=\"852.5\" y=\"-52.8\" font-family=\"Helvetica,sans-Serif\" font-size=\"14.00\" fill=\"#000000\">gini = 0.42</text>\n<text text-anchor=\"start\" x=\"842\" y=\"-37.8\" font-family=\"Helvetica,sans-Serif\" font-size=\"14.00\" fill=\"#000000\">samples = 70</text>\n<text text-anchor=\"start\" x=\"836\" y=\"-22.8\" font-family=\"Helvetica,sans-Serif\" font-size=\"14.00\" fill=\"#000000\">value = [49, 21]</text>\n<text text-anchor=\"start\" x=\"857\" y=\"-7.8\" font-family=\"Helvetica,sans-Serif\" font-size=\"14.00\" fill=\"#000000\">class = 0</text>\n</g>\n<!-- 13&#45;&gt;14 -->\n<g id=\"edge14\" class=\"edge\">\n<title>13&#45;&gt;14</title>\n<path fill=\"none\" stroke=\"#000000\" d=\"M890.3935,-103.9815C889.8684,-95.618 889.3146,-86.7965 888.7837,-78.3409\"/>\n<polygon fill=\"#000000\" stroke=\"#000000\" points=\"892.2709,-78.0247 888.1511,-68.2637 885.2846,-78.4634 892.2709,-78.0247\"/>\n</g>\n<!-- 15 -->\n<g id=\"node16\" class=\"node\">\n<title>15</title>\n<path fill=\"#e89050\" stroke=\"#000000\" d=\"M1066,-68C1066,-68 974,-68 974,-68 968,-68 962,-62 962,-56 962,-56 962,-12 962,-12 962,-6 968,0 974,0 974,0 1066,0 1066,0 1072,0 1078,-6 1078,-12 1078,-12 1078,-56 1078,-56 1078,-62 1072,-68 1066,-68\"/>\n<text text-anchor=\"start\" x=\"982\" y=\"-52.8\" font-family=\"Helvetica,sans-Serif\" font-size=\"14.00\" fill=\"#000000\">gini = 0.189</text>\n<text text-anchor=\"start\" x=\"972\" y=\"-37.8\" font-family=\"Helvetica,sans-Serif\" font-size=\"14.00\" fill=\"#000000\">samples = 104</text>\n<text text-anchor=\"start\" x=\"970\" y=\"-22.8\" font-family=\"Helvetica,sans-Serif\" font-size=\"14.00\" fill=\"#000000\">value = [93, 11]</text>\n<text text-anchor=\"start\" x=\"991\" y=\"-7.8\" font-family=\"Helvetica,sans-Serif\" font-size=\"14.00\" fill=\"#000000\">class = 0</text>\n</g>\n<!-- 13&#45;&gt;15 -->\n<g id=\"edge15\" class=\"edge\">\n<title>13&#45;&gt;15</title>\n<path fill=\"none\" stroke=\"#000000\" d=\"M940.2901,-103.9815C951.0725,-94.5151 962.523,-84.462 973.2813,-75.0168\"/>\n<polygon fill=\"#000000\" stroke=\"#000000\" points=\"975.7676,-77.4915 980.9732,-68.2637 971.1493,-72.2311 975.7676,-77.4915\"/>\n</g>\n<!-- 17 -->\n<g id=\"node18\" class=\"node\">\n<title>17</title>\n<path fill=\"#fdf6f1\" stroke=\"#000000\" d=\"M1409,-306C1409,-306 1301,-306 1301,-306 1295,-306 1289,-300 1289,-294 1289,-294 1289,-235 1289,-235 1289,-229 1295,-223 1301,-223 1301,-223 1409,-223 1409,-223 1415,-223 1421,-229 1421,-235 1421,-235 1421,-294 1421,-294 1421,-300 1415,-306 1409,-306\"/>\n<text text-anchor=\"start\" x=\"1302.5\" y=\"-290.8\" font-family=\"Helvetica,sans-Serif\" font-size=\"14.00\" fill=\"#000000\">Teenhome ≤ 0.5</text>\n<text text-anchor=\"start\" x=\"1317\" y=\"-275.8\" font-family=\"Helvetica,sans-Serif\" font-size=\"14.00\" fill=\"#000000\">gini = 0.499</text>\n<text text-anchor=\"start\" x=\"1307\" y=\"-260.8\" font-family=\"Helvetica,sans-Serif\" font-size=\"14.00\" fill=\"#000000\">samples = 216</text>\n<text text-anchor=\"start\" x=\"1297\" y=\"-245.8\" font-family=\"Helvetica,sans-Serif\" font-size=\"14.00\" fill=\"#000000\">value = [112, 104]</text>\n<text text-anchor=\"start\" x=\"1326\" y=\"-230.8\" font-family=\"Helvetica,sans-Serif\" font-size=\"14.00\" fill=\"#000000\">class = 0</text>\n</g>\n<!-- 16&#45;&gt;17 -->\n<g id=\"edge17\" class=\"edge\">\n<title>16&#45;&gt;17</title>\n<path fill=\"none\" stroke=\"#000000\" d=\"M1355,-341.8796C1355,-333.6838 1355,-324.9891 1355,-316.5013\"/>\n<polygon fill=\"#000000\" stroke=\"#000000\" points=\"1358.5001,-316.298 1355,-306.2981 1351.5001,-316.2981 1358.5001,-316.298\"/>\n</g>\n<!-- 24 -->\n<g id=\"node25\" class=\"node\">\n<title>24</title>\n<path fill=\"#6db7ec\" stroke=\"#000000\" d=\"M1807.5,-306C1807.5,-306 1636.5,-306 1636.5,-306 1630.5,-306 1624.5,-300 1624.5,-294 1624.5,-294 1624.5,-235 1624.5,-235 1624.5,-229 1630.5,-223 1636.5,-223 1636.5,-223 1807.5,-223 1807.5,-223 1813.5,-223 1819.5,-229 1819.5,-235 1819.5,-235 1819.5,-294 1819.5,-294 1819.5,-300 1813.5,-306 1807.5,-306\"/>\n<text text-anchor=\"start\" x=\"1632.5\" y=\"-290.8\" font-family=\"Helvetica,sans-Serif\" font-size=\"14.00\" fill=\"#000000\">NumStorePurchases ≤ 12.5</text>\n<text text-anchor=\"start\" x=\"1688.5\" y=\"-275.8\" font-family=\"Helvetica,sans-Serif\" font-size=\"14.00\" fill=\"#000000\">gini = 0.33</text>\n<text text-anchor=\"start\" x=\"1674\" y=\"-260.8\" font-family=\"Helvetica,sans-Serif\" font-size=\"14.00\" fill=\"#000000\">samples = 139</text>\n<text text-anchor=\"start\" x=\"1668\" y=\"-245.8\" font-family=\"Helvetica,sans-Serif\" font-size=\"14.00\" fill=\"#000000\">value = [29, 110]</text>\n<text text-anchor=\"start\" x=\"1693\" y=\"-230.8\" font-family=\"Helvetica,sans-Serif\" font-size=\"14.00\" fill=\"#000000\">class = 1</text>\n</g>\n<!-- 16&#45;&gt;24 -->\n<g id=\"edge24\" class=\"edge\">\n<title>16&#45;&gt;24</title>\n<path fill=\"none\" stroke=\"#000000\" d=\"M1421.8867,-361.8119C1475.6592,-344.3762 1552.2434,-319.5437 1614.5878,-299.3285\"/>\n<polygon fill=\"#000000\" stroke=\"#000000\" points=\"1616.0329,-302.5394 1624.4658,-296.1255 1613.8738,-295.8807 1616.0329,-302.5394\"/>\n</g>\n<!-- 18 -->\n<g id=\"node19\" class=\"node\">\n<title>18</title>\n<path fill=\"#c6e3f8\" stroke=\"#000000\" d=\"M1334,-187C1334,-187 1240,-187 1240,-187 1234,-187 1228,-181 1228,-175 1228,-175 1228,-116 1228,-116 1228,-110 1234,-104 1240,-104 1240,-104 1334,-104 1334,-104 1340,-104 1346,-110 1346,-116 1346,-116 1346,-175 1346,-175 1346,-181 1340,-187 1334,-187\"/>\n<text text-anchor=\"start\" x=\"1236\" y=\"-171.8\" font-family=\"Helvetica,sans-Serif\" font-size=\"14.00\" fill=\"#000000\">Recency ≤ 41.5</text>\n<text text-anchor=\"start\" x=\"1249\" y=\"-156.8\" font-family=\"Helvetica,sans-Serif\" font-size=\"14.00\" fill=\"#000000\">gini = 0.486</text>\n<text text-anchor=\"start\" x=\"1239\" y=\"-141.8\" font-family=\"Helvetica,sans-Serif\" font-size=\"14.00\" fill=\"#000000\">samples = 125</text>\n<text text-anchor=\"start\" x=\"1237\" y=\"-126.8\" font-family=\"Helvetica,sans-Serif\" font-size=\"14.00\" fill=\"#000000\">value = [52, 73]</text>\n<text text-anchor=\"start\" x=\"1258\" y=\"-111.8\" font-family=\"Helvetica,sans-Serif\" font-size=\"14.00\" fill=\"#000000\">class = 1</text>\n</g>\n<!-- 17&#45;&gt;18 -->\n<g id=\"edge18\" class=\"edge\">\n<title>17&#45;&gt;18</title>\n<path fill=\"none\" stroke=\"#000000\" d=\"M1331.2169,-222.8796C1326.2763,-214.2335 1321.0184,-205.0322 1315.9167,-196.1042\"/>\n<polygon fill=\"#000000\" stroke=\"#000000\" points=\"1318.8849,-194.244 1310.8846,-187.2981 1312.8072,-197.717 1318.8849,-194.244\"/>\n</g>\n<!-- 21 -->\n<g id=\"node22\" class=\"node\">\n<title>21</title>\n<path fill=\"#f2c29f\" stroke=\"#000000\" d=\"M1470,-187C1470,-187 1376,-187 1376,-187 1370,-187 1364,-181 1364,-175 1364,-175 1364,-116 1364,-116 1364,-110 1370,-104 1376,-104 1376,-104 1470,-104 1470,-104 1476,-104 1482,-110 1482,-116 1482,-116 1482,-175 1482,-175 1482,-181 1476,-187 1470,-187\"/>\n<text text-anchor=\"start\" x=\"1372\" y=\"-171.8\" font-family=\"Helvetica,sans-Serif\" font-size=\"14.00\" fill=\"#000000\">Recency ≤ 36.0</text>\n<text text-anchor=\"start\" x=\"1385\" y=\"-156.8\" font-family=\"Helvetica,sans-Serif\" font-size=\"14.00\" fill=\"#000000\">gini = 0.449</text>\n<text text-anchor=\"start\" x=\"1379\" y=\"-141.8\" font-family=\"Helvetica,sans-Serif\" font-size=\"14.00\" fill=\"#000000\">samples = 91</text>\n<text text-anchor=\"start\" x=\"1373\" y=\"-126.8\" font-family=\"Helvetica,sans-Serif\" font-size=\"14.00\" fill=\"#000000\">value = [60, 31]</text>\n<text text-anchor=\"start\" x=\"1394\" y=\"-111.8\" font-family=\"Helvetica,sans-Serif\" font-size=\"14.00\" fill=\"#000000\">class = 0</text>\n</g>\n<!-- 17&#45;&gt;21 -->\n<g id=\"edge21\" class=\"edge\">\n<title>17&#45;&gt;21</title>\n<path fill=\"none\" stroke=\"#000000\" d=\"M1378.7831,-222.8796C1383.7237,-214.2335 1388.9816,-205.0322 1394.0833,-196.1042\"/>\n<polygon fill=\"#000000\" stroke=\"#000000\" points=\"1397.1928,-197.717 1399.1154,-187.2981 1391.1151,-194.244 1397.1928,-197.717\"/>\n</g>\n<!-- 19 -->\n<g id=\"node20\" class=\"node\">\n<title>19</title>\n<path fill=\"#86c3ef\" stroke=\"#000000\" d=\"M1200,-68C1200,-68 1108,-68 1108,-68 1102,-68 1096,-62 1096,-56 1096,-56 1096,-12 1096,-12 1096,-6 1102,0 1108,0 1108,0 1200,0 1200,0 1206,0 1212,-6 1212,-12 1212,-12 1212,-56 1212,-56 1212,-62 1206,-68 1200,-68\"/>\n<text text-anchor=\"start\" x=\"1116\" y=\"-52.8\" font-family=\"Helvetica,sans-Serif\" font-size=\"14.00\" fill=\"#000000\">gini = 0.403</text>\n<text text-anchor=\"start\" x=\"1110\" y=\"-37.8\" font-family=\"Helvetica,sans-Serif\" font-size=\"14.00\" fill=\"#000000\">samples = 50</text>\n<text text-anchor=\"start\" x=\"1104\" y=\"-22.8\" font-family=\"Helvetica,sans-Serif\" font-size=\"14.00\" fill=\"#000000\">value = [14, 36]</text>\n<text text-anchor=\"start\" x=\"1125\" y=\"-7.8\" font-family=\"Helvetica,sans-Serif\" font-size=\"14.00\" fill=\"#000000\">class = 1</text>\n</g>\n<!-- 18&#45;&gt;19 -->\n<g id=\"edge19\" class=\"edge\">\n<title>18&#45;&gt;19</title>\n<path fill=\"none\" stroke=\"#000000\" d=\"M1237.4757,-103.9815C1226.0743,-94.4232 1213.9595,-84.2668 1202.5979,-74.7419\"/>\n<polygon fill=\"#000000\" stroke=\"#000000\" points=\"1204.7825,-72.006 1194.8706,-68.2637 1200.2853,-77.3704 1204.7825,-72.006\"/>\n</g>\n<!-- 20 -->\n<g id=\"node21\" class=\"node\">\n<title>20</title>\n<path fill=\"#fefcfa\" stroke=\"#000000\" d=\"M1334,-68C1334,-68 1242,-68 1242,-68 1236,-68 1230,-62 1230,-56 1230,-56 1230,-12 1230,-12 1230,-6 1236,0 1242,0 1242,0 1334,0 1334,0 1340,0 1346,-6 1346,-12 1346,-12 1346,-56 1346,-56 1346,-62 1340,-68 1334,-68\"/>\n<text text-anchor=\"start\" x=\"1258.5\" y=\"-52.8\" font-family=\"Helvetica,sans-Serif\" font-size=\"14.00\" fill=\"#000000\">gini = 0.5</text>\n<text text-anchor=\"start\" x=\"1244\" y=\"-37.8\" font-family=\"Helvetica,sans-Serif\" font-size=\"14.00\" fill=\"#000000\">samples = 75</text>\n<text text-anchor=\"start\" x=\"1238\" y=\"-22.8\" font-family=\"Helvetica,sans-Serif\" font-size=\"14.00\" fill=\"#000000\">value = [38, 37]</text>\n<text text-anchor=\"start\" x=\"1259\" y=\"-7.8\" font-family=\"Helvetica,sans-Serif\" font-size=\"14.00\" fill=\"#000000\">class = 0</text>\n</g>\n<!-- 18&#45;&gt;20 -->\n<g id=\"edge20\" class=\"edge\">\n<title>18&#45;&gt;20</title>\n<path fill=\"none\" stroke=\"#000000\" d=\"M1287.3724,-103.9815C1287.4474,-95.618 1287.5265,-86.7965 1287.6023,-78.3409\"/>\n<polygon fill=\"#000000\" stroke=\"#000000\" points=\"1291.1028,-78.2947 1287.6927,-68.2637 1284.1031,-78.2318 1291.1028,-78.2947\"/>\n</g>\n<!-- 22 -->\n<g id=\"node23\" class=\"node\">\n<title>22</title>\n<path fill=\"#fdf7f3\" stroke=\"#000000\" d=\"M1468,-68C1468,-68 1376,-68 1376,-68 1370,-68 1364,-62 1364,-56 1364,-56 1364,-12 1364,-12 1364,-6 1370,0 1376,0 1376,0 1468,0 1468,0 1474,0 1480,-6 1480,-12 1480,-12 1480,-56 1480,-56 1480,-62 1474,-68 1468,-68\"/>\n<text text-anchor=\"start\" x=\"1384\" y=\"-52.8\" font-family=\"Helvetica,sans-Serif\" font-size=\"14.00\" fill=\"#000000\">gini = 0.499</text>\n<text text-anchor=\"start\" x=\"1378\" y=\"-37.8\" font-family=\"Helvetica,sans-Serif\" font-size=\"14.00\" fill=\"#000000\">samples = 31</text>\n<text text-anchor=\"start\" x=\"1372\" y=\"-22.8\" font-family=\"Helvetica,sans-Serif\" font-size=\"14.00\" fill=\"#000000\">value = [16, 15]</text>\n<text text-anchor=\"start\" x=\"1393\" y=\"-7.8\" font-family=\"Helvetica,sans-Serif\" font-size=\"14.00\" fill=\"#000000\">class = 0</text>\n</g>\n<!-- 21&#45;&gt;22 -->\n<g id=\"edge22\" class=\"edge\">\n<title>21&#45;&gt;22</title>\n<path fill=\"none\" stroke=\"#000000\" d=\"M1422.6276,-103.9815C1422.5526,-95.618 1422.4735,-86.7965 1422.3977,-78.3409\"/>\n<polygon fill=\"#000000\" stroke=\"#000000\" points=\"1425.8969,-78.2318 1422.3073,-68.2637 1418.8972,-78.2947 1425.8969,-78.2318\"/>\n</g>\n<!-- 23 -->\n<g id=\"node24\" class=\"node\">\n<title>23</title>\n<path fill=\"#eeaf81\" stroke=\"#000000\" d=\"M1602,-68C1602,-68 1510,-68 1510,-68 1504,-68 1498,-62 1498,-56 1498,-56 1498,-12 1498,-12 1498,-6 1504,0 1510,0 1510,0 1602,0 1602,0 1608,0 1614,-6 1614,-12 1614,-12 1614,-56 1614,-56 1614,-62 1608,-68 1602,-68\"/>\n<text text-anchor=\"start\" x=\"1518\" y=\"-52.8\" font-family=\"Helvetica,sans-Serif\" font-size=\"14.00\" fill=\"#000000\">gini = 0.391</text>\n<text text-anchor=\"start\" x=\"1512\" y=\"-37.8\" font-family=\"Helvetica,sans-Serif\" font-size=\"14.00\" fill=\"#000000\">samples = 60</text>\n<text text-anchor=\"start\" x=\"1506\" y=\"-22.8\" font-family=\"Helvetica,sans-Serif\" font-size=\"14.00\" fill=\"#000000\">value = [44, 16]</text>\n<text text-anchor=\"start\" x=\"1527\" y=\"-7.8\" font-family=\"Helvetica,sans-Serif\" font-size=\"14.00\" fill=\"#000000\">class = 0</text>\n</g>\n<!-- 21&#45;&gt;23 -->\n<g id=\"edge23\" class=\"edge\">\n<title>21&#45;&gt;23</title>\n<path fill=\"none\" stroke=\"#000000\" d=\"M1472.5243,-103.9815C1483.9257,-94.4232 1496.0405,-84.2668 1507.4021,-74.7419\"/>\n<polygon fill=\"#000000\" stroke=\"#000000\" points=\"1509.7147,-77.3704 1515.1294,-68.2637 1505.2175,-72.006 1509.7147,-77.3704\"/>\n</g>\n<!-- 25 -->\n<g id=\"node26\" class=\"node\">\n<title>25</title>\n<path fill=\"#66b3eb\" stroke=\"#000000\" d=\"M1803.5,-187C1803.5,-187 1640.5,-187 1640.5,-187 1634.5,-187 1628.5,-181 1628.5,-175 1628.5,-175 1628.5,-116 1628.5,-116 1628.5,-110 1634.5,-104 1640.5,-104 1640.5,-104 1803.5,-104 1803.5,-104 1809.5,-104 1815.5,-110 1815.5,-116 1815.5,-116 1815.5,-175 1815.5,-175 1815.5,-181 1809.5,-187 1803.5,-187\"/>\n<text text-anchor=\"start\" x=\"1636.5\" y=\"-171.8\" font-family=\"Helvetica,sans-Serif\" font-size=\"14.00\" fill=\"#000000\">NumStorePurchases ≤ 4.5</text>\n<text text-anchor=\"start\" x=\"1692.5\" y=\"-156.8\" font-family=\"Helvetica,sans-Serif\" font-size=\"14.00\" fill=\"#000000\">gini = 0.3</text>\n<text text-anchor=\"start\" x=\"1674\" y=\"-141.8\" font-family=\"Helvetica,sans-Serif\" font-size=\"14.00\" fill=\"#000000\">samples = 125</text>\n<text text-anchor=\"start\" x=\"1668\" y=\"-126.8\" font-family=\"Helvetica,sans-Serif\" font-size=\"14.00\" fill=\"#000000\">value = [23, 102]</text>\n<text text-anchor=\"start\" x=\"1693\" y=\"-111.8\" font-family=\"Helvetica,sans-Serif\" font-size=\"14.00\" fill=\"#000000\">class = 1</text>\n</g>\n<!-- 24&#45;&gt;25 -->\n<g id=\"edge25\" class=\"edge\">\n<title>24&#45;&gt;25</title>\n<path fill=\"none\" stroke=\"#000000\" d=\"M1722,-222.8796C1722,-214.6838 1722,-205.9891 1722,-197.5013\"/>\n<polygon fill=\"#000000\" stroke=\"#000000\" points=\"1725.5001,-197.298 1722,-187.2981 1718.5001,-197.2981 1725.5001,-197.298\"/>\n</g>\n<!-- 28 -->\n<g id=\"node29\" class=\"node\">\n<title>28</title>\n<path fill=\"#cee6f8\" stroke=\"#000000\" d=\"M1992.5,-187C1992.5,-187 1883.5,-187 1883.5,-187 1877.5,-187 1871.5,-181 1871.5,-175 1871.5,-175 1871.5,-116 1871.5,-116 1871.5,-110 1877.5,-104 1883.5,-104 1883.5,-104 1992.5,-104 1992.5,-104 1998.5,-104 2004.5,-110 2004.5,-116 2004.5,-116 2004.5,-175 2004.5,-175 2004.5,-181 1998.5,-187 1992.5,-187\"/>\n<text text-anchor=\"start\" x=\"1879.5\" y=\"-171.8\" font-family=\"Helvetica,sans-Serif\" font-size=\"14.00\" fill=\"#000000\">MntWines ≤ 989.5</text>\n<text text-anchor=\"start\" x=\"1904.5\" y=\"-156.8\" font-family=\"Helvetica,sans-Serif\" font-size=\"14.00\" fill=\"#000000\">gini = 0.49</text>\n<text text-anchor=\"start\" x=\"1894\" y=\"-141.8\" font-family=\"Helvetica,sans-Serif\" font-size=\"14.00\" fill=\"#000000\">samples = 14</text>\n<text text-anchor=\"start\" x=\"1896.5\" y=\"-126.8\" font-family=\"Helvetica,sans-Serif\" font-size=\"14.00\" fill=\"#000000\">value = [6, 8]</text>\n<text text-anchor=\"start\" x=\"1909\" y=\"-111.8\" font-family=\"Helvetica,sans-Serif\" font-size=\"14.00\" fill=\"#000000\">class = 1</text>\n</g>\n<!-- 24&#45;&gt;28 -->\n<g id=\"edge28\" class=\"edge\">\n<title>24&#45;&gt;28</title>\n<path fill=\"none\" stroke=\"#000000\" d=\"M1797.5463,-222.8796C1818.6233,-211.2677 1841.5183,-198.6543 1862.5876,-187.0467\"/>\n<polygon fill=\"#000000\" stroke=\"#000000\" points=\"1864.425,-190.0304 1871.4949,-182.1394 1861.0472,-183.8993 1864.425,-190.0304\"/>\n</g>\n<!-- 26 -->\n<g id=\"node27\" class=\"node\">\n<title>26</title>\n<path fill=\"#bddef6\" stroke=\"#000000\" d=\"M1724,-68C1724,-68 1644,-68 1644,-68 1638,-68 1632,-62 1632,-56 1632,-56 1632,-12 1632,-12 1632,-6 1638,0 1644,0 1644,0 1724,0 1724,0 1730,0 1736,-6 1736,-12 1736,-12 1736,-56 1736,-56 1736,-62 1730,-68 1724,-68\"/>\n<text text-anchor=\"start\" x=\"1650.5\" y=\"-52.8\" font-family=\"Helvetica,sans-Serif\" font-size=\"14.00\" fill=\"#000000\">gini = 0.48</text>\n<text text-anchor=\"start\" x=\"1640\" y=\"-37.8\" font-family=\"Helvetica,sans-Serif\" font-size=\"14.00\" fill=\"#000000\">samples = 15</text>\n<text text-anchor=\"start\" x=\"1642.5\" y=\"-22.8\" font-family=\"Helvetica,sans-Serif\" font-size=\"14.00\" fill=\"#000000\">value = [6, 9]</text>\n<text text-anchor=\"start\" x=\"1655\" y=\"-7.8\" font-family=\"Helvetica,sans-Serif\" font-size=\"14.00\" fill=\"#000000\">class = 1</text>\n</g>\n<!-- 25&#45;&gt;26 -->\n<g id=\"edge26\" class=\"edge\">\n<title>25&#45;&gt;26</title>\n<path fill=\"none\" stroke=\"#000000\" d=\"M1707.8502,-103.9815C1704.9372,-95.4342 1701.8612,-86.4086 1698.9219,-77.7839\"/>\n<polygon fill=\"#000000\" stroke=\"#000000\" points=\"1702.2161,-76.6 1695.6773,-68.2637 1695.5904,-78.8582 1702.2161,-76.6\"/>\n</g>\n<!-- 27 -->\n<g id=\"node28\" class=\"node\">\n<title>27</title>\n<path fill=\"#5dafea\" stroke=\"#000000\" d=\"M1858,-68C1858,-68 1766,-68 1766,-68 1760,-68 1754,-62 1754,-56 1754,-56 1754,-12 1754,-12 1754,-6 1760,0 1766,0 1766,0 1858,0 1858,0 1864,0 1870,-6 1870,-12 1870,-12 1870,-56 1870,-56 1870,-62 1864,-68 1858,-68\"/>\n<text text-anchor=\"start\" x=\"1774\" y=\"-52.8\" font-family=\"Helvetica,sans-Serif\" font-size=\"14.00\" fill=\"#000000\">gini = 0.261</text>\n<text text-anchor=\"start\" x=\"1764\" y=\"-37.8\" font-family=\"Helvetica,sans-Serif\" font-size=\"14.00\" fill=\"#000000\">samples = 110</text>\n<text text-anchor=\"start\" x=\"1762\" y=\"-22.8\" font-family=\"Helvetica,sans-Serif\" font-size=\"14.00\" fill=\"#000000\">value = [17, 93]</text>\n<text text-anchor=\"start\" x=\"1783\" y=\"-7.8\" font-family=\"Helvetica,sans-Serif\" font-size=\"14.00\" fill=\"#000000\">class = 1</text>\n</g>\n<!-- 25&#45;&gt;27 -->\n<g id=\"edge27\" class=\"edge\">\n<title>25&#45;&gt;27</title>\n<path fill=\"none\" stroke=\"#000000\" d=\"M1755.5127,-103.9815C1762.857,-94.8828 1770.6388,-85.242 1778.0019,-76.1199\"/>\n<polygon fill=\"#000000\" stroke=\"#000000\" points=\"1780.7857,-78.2434 1784.3432,-68.2637 1775.3388,-73.8467 1780.7857,-78.2434\"/>\n</g>\n<!-- 29 -->\n<g id=\"node30\" class=\"node\">\n<title>29</title>\n<path fill=\"#399de5\" stroke=\"#000000\" d=\"M1975.5,-68C1975.5,-68 1900.5,-68 1900.5,-68 1894.5,-68 1888.5,-62 1888.5,-56 1888.5,-56 1888.5,-12 1888.5,-12 1888.5,-6 1894.5,0 1900.5,0 1900.5,0 1975.5,0 1975.5,0 1981.5,0 1987.5,-6 1987.5,-12 1987.5,-12 1987.5,-56 1987.5,-56 1987.5,-62 1981.5,-68 1975.5,-68\"/>\n<text text-anchor=\"start\" x=\"1908.5\" y=\"-52.8\" font-family=\"Helvetica,sans-Serif\" font-size=\"14.00\" fill=\"#000000\">gini = 0.0</text>\n<text text-anchor=\"start\" x=\"1898.5\" y=\"-37.8\" font-family=\"Helvetica,sans-Serif\" font-size=\"14.00\" fill=\"#000000\">samples = 3</text>\n<text text-anchor=\"start\" x=\"1896.5\" y=\"-22.8\" font-family=\"Helvetica,sans-Serif\" font-size=\"14.00\" fill=\"#000000\">value = [0, 3]</text>\n<text text-anchor=\"start\" x=\"1909\" y=\"-7.8\" font-family=\"Helvetica,sans-Serif\" font-size=\"14.00\" fill=\"#000000\">class = 1</text>\n</g>\n<!-- 28&#45;&gt;29 -->\n<g id=\"edge29\" class=\"edge\">\n<title>28&#45;&gt;29</title>\n<path fill=\"none\" stroke=\"#000000\" d=\"M1938,-103.9815C1938,-95.618 1938,-86.7965 1938,-78.3409\"/>\n<polygon fill=\"#000000\" stroke=\"#000000\" points=\"1941.5001,-78.2636 1938,-68.2637 1934.5001,-78.2637 1941.5001,-78.2636\"/>\n</g>\n<!-- 30 -->\n<g id=\"node31\" class=\"node\">\n<title>30</title>\n<path fill=\"#fbeade\" stroke=\"#000000\" d=\"M2098,-68C2098,-68 2018,-68 2018,-68 2012,-68 2006,-62 2006,-56 2006,-56 2006,-12 2006,-12 2006,-6 2012,0 2018,0 2018,0 2098,0 2098,0 2104,0 2110,-6 2110,-12 2110,-12 2110,-56 2110,-56 2110,-62 2104,-68 2098,-68\"/>\n<text text-anchor=\"start\" x=\"2020\" y=\"-52.8\" font-family=\"Helvetica,sans-Serif\" font-size=\"14.00\" fill=\"#000000\">gini = 0.496</text>\n<text text-anchor=\"start\" x=\"2014\" y=\"-37.8\" font-family=\"Helvetica,sans-Serif\" font-size=\"14.00\" fill=\"#000000\">samples = 11</text>\n<text text-anchor=\"start\" x=\"2016.5\" y=\"-22.8\" font-family=\"Helvetica,sans-Serif\" font-size=\"14.00\" fill=\"#000000\">value = [6, 5]</text>\n<text text-anchor=\"start\" x=\"2029\" y=\"-7.8\" font-family=\"Helvetica,sans-Serif\" font-size=\"14.00\" fill=\"#000000\">class = 0</text>\n</g>\n<!-- 28&#45;&gt;30 -->\n<g id=\"edge30\" class=\"edge\">\n<title>28&#45;&gt;30</title>\n<path fill=\"none\" stroke=\"#000000\" d=\"M1982.6836,-103.9815C1992.7727,-94.607 2003.481,-84.6572 2013.5601,-75.2921\"/>\n<polygon fill=\"#000000\" stroke=\"#000000\" points=\"2016.1809,-77.6346 2021.1243,-68.2637 2011.4161,-72.5065 2016.1809,-77.6346\"/>\n</g>\n</g>\n</svg>\n"
          },
          "metadata": {},
          "execution_count": 47
        }
      ]
    }
  ]
}